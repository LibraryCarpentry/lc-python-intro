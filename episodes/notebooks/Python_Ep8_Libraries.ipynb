{
 "cells": [
  {
   "metadata": {},
   "cell_type": "markdown",
   "source": [
    "# Libraries & Pandas\n",
    "\n",
    "### Objectives\n",
    "\n",
    "- Explain what Python libraries and modules are.\n",
    "- Write Python code that imports and uses modules from Python's standard library.\n",
    "- Find and read documentation for standard libraries.\n",
    "- Import the pandas library.\n",
    "- Use pandas to load a CSV file as a data set.\n",
    "- Get some basic information about a pandas DataFrame.\n",
    "\n",
    "### Questions\n",
    "\n",
    "- How can I extend the capabilities of Python?\n",
    "- How can I use Python code that other people have written?\n",
    "- How can I read tabular data?\n"
   ],
   "id": "a6b3bd5c57f11ebe"
  },
  {
   "metadata": {
    "ExecuteTime": {
     "end_time": "2024-09-26T03:45:31.438700Z",
     "start_time": "2024-09-26T03:45:31.435135Z"
    }
   },
   "cell_type": "code",
   "source": [
    "## Python libraries are powerful collections of tools.\n",
    "\n",
    "# Import the `string` library\n",
    "import string\n",
    "\n",
    "print(f'The lower ascii letters are {string.ascii_lowercase}')\n",
    "print(string.capwords('capitalise this sentence please.'))\n"
   ],
   "id": "44ef73cc8039f037",
   "outputs": [
    {
     "name": "stdout",
     "output_type": "stream",
     "text": [
      "The lower ascii letters are abcdefghijklmnopqrstuvwxyz\n",
      "Capitalise This Sentence Please.\n"
     ]
    }
   ],
   "execution_count": 2
  },
  {
   "metadata": {
    "ExecuteTime": {
     "end_time": "2024-09-26T03:45:48.626129Z",
     "start_time": "2024-09-26T03:45:48.619229Z"
    }
   },
   "cell_type": "code",
   "source": [
    "# Learn more about the contents of a library\n",
    "help(string)"
   ],
   "id": "8a1536343158b009",
   "outputs": [
    {
     "name": "stdout",
     "output_type": "stream",
     "text": [
      "Help on module string:\n",
      "\n",
      "NAME\n",
      "    string - A collection of string constants.\n",
      "\n",
      "MODULE REFERENCE\n",
      "    https://docs.python.org/3.12/library/string.html\n",
      "\n",
      "    The following documentation is automatically generated from the Python\n",
      "    source files.  It may be incomplete, incorrect or include features that\n",
      "    are considered implementation detail and may vary between Python\n",
      "    implementations.  When in doubt, consult the module reference at the\n",
      "    location listed above.\n",
      "\n",
      "DESCRIPTION\n",
      "    Public module variables:\n",
      "\n",
      "    whitespace -- a string containing all ASCII whitespace\n",
      "    ascii_lowercase -- a string containing all ASCII lowercase letters\n",
      "    ascii_uppercase -- a string containing all ASCII uppercase letters\n",
      "    ascii_letters -- a string containing all ASCII letters\n",
      "    digits -- a string containing all ASCII decimal digits\n",
      "    hexdigits -- a string containing all ASCII hexadecimal digits\n",
      "    octdigits -- a string containing all ASCII octal digits\n",
      "    punctuation -- a string containing all ASCII punctuation characters\n",
      "    printable -- a string containing all ASCII characters considered printable\n",
      "\n",
      "CLASSES\n",
      "    builtins.object\n",
      "        Formatter\n",
      "        Template\n",
      "\n",
      "    class Formatter(builtins.object)\n",
      "     |  Methods defined here:\n",
      "     |\n",
      "     |  check_unused_args(self, used_args, args, kwargs)\n",
      "     |\n",
      "     |  convert_field(self, value, conversion)\n",
      "     |\n",
      "     |  format(self, format_string, /, *args, **kwargs)\n",
      "     |\n",
      "     |  format_field(self, value, format_spec)\n",
      "     |\n",
      "     |  get_field(self, field_name, args, kwargs)\n",
      "     |      # given a field_name, find the object it references.\n",
      "     |      #  field_name:   the field being looked up, e.g. \"0.name\"\n",
      "     |      #                 or \"lookup[3]\"\n",
      "     |      #  used_args:    a set of which args have been used\n",
      "     |      #  args, kwargs: as passed in to vformat\n",
      "     |\n",
      "     |  get_value(self, key, args, kwargs)\n",
      "     |\n",
      "     |  parse(self, format_string)\n",
      "     |      # returns an iterable that contains tuples of the form:\n",
      "     |      # (literal_text, field_name, format_spec, conversion)\n",
      "     |      # literal_text can be zero length\n",
      "     |      # field_name can be None, in which case there's no\n",
      "     |      #  object to format and output\n",
      "     |      # if field_name is not None, it is looked up, formatted\n",
      "     |      #  with format_spec and conversion and then used\n",
      "     |\n",
      "     |  vformat(self, format_string, args, kwargs)\n",
      "     |\n",
      "     |  ----------------------------------------------------------------------\n",
      "     |  Data descriptors defined here:\n",
      "     |\n",
      "     |  __dict__\n",
      "     |      dictionary for instance variables\n",
      "     |\n",
      "     |  __weakref__\n",
      "     |      list of weak references to the object\n",
      "\n",
      "    class Template(builtins.object)\n",
      "     |  Template(template)\n",
      "     |\n",
      "     |  A string class for supporting $-substitutions.\n",
      "     |\n",
      "     |  Methods defined here:\n",
      "     |\n",
      "     |  __init__(self, template)\n",
      "     |      Initialize self.  See help(type(self)) for accurate signature.\n",
      "     |\n",
      "     |  get_identifiers(self)\n",
      "     |\n",
      "     |  is_valid(self)\n",
      "     |\n",
      "     |  safe_substitute(self, mapping={}, /, **kws)\n",
      "     |\n",
      "     |  substitute(self, mapping={}, /, **kws)\n",
      "     |\n",
      "     |  ----------------------------------------------------------------------\n",
      "     |  Class methods defined here:\n",
      "     |\n",
      "     |  __init_subclass__()\n",
      "     |      This method is called when a class is subclassed.\n",
      "     |\n",
      "     |      The default implementation does nothing. It may be\n",
      "     |      overridden to extend subclasses.\n",
      "     |\n",
      "     |  ----------------------------------------------------------------------\n",
      "     |  Data descriptors defined here:\n",
      "     |\n",
      "     |  __dict__\n",
      "     |      dictionary for instance variables\n",
      "     |\n",
      "     |  __weakref__\n",
      "     |      list of weak references to the object\n",
      "     |\n",
      "     |  ----------------------------------------------------------------------\n",
      "     |  Data and other attributes defined here:\n",
      "     |\n",
      "     |  braceidpattern = None\n",
      "     |\n",
      "     |  delimiter = '$'\n",
      "     |\n",
      "     |  flags = re.IGNORECASE\n",
      "     |\n",
      "     |  idpattern = '(?a:[_a-z][_a-z0-9]*)'\n",
      "     |\n",
      "     |  pattern = re.compile('\\n            \\\\$(?:\\n              ...identifie...\n",
      "\n",
      "FUNCTIONS\n",
      "    capwords(s, sep=None)\n",
      "        capwords(s [,sep]) -> string\n",
      "\n",
      "        Split the argument into words using split, capitalize each\n",
      "        word using capitalize, and join the capitalized words using\n",
      "        join.  If the optional second argument sep is absent or None,\n",
      "        runs of whitespace characters are replaced by a single space\n",
      "        and leading and trailing whitespace are removed, otherwise\n",
      "        sep is used to split and join the words.\n",
      "\n",
      "DATA\n",
      "    __all__ = ['ascii_letters', 'ascii_lowercase', 'ascii_uppercase', 'cap...\n",
      "    ascii_letters = 'abcdefghijklmnopqrstuvwxyzABCDEFGHIJKLMNOPQRSTUVWXYZ'\n",
      "    ascii_lowercase = 'abcdefghijklmnopqrstuvwxyz'\n",
      "    ascii_uppercase = 'ABCDEFGHIJKLMNOPQRSTUVWXYZ'\n",
      "    digits = '0123456789'\n",
      "    hexdigits = '0123456789abcdefABCDEF'\n",
      "    octdigits = '01234567'\n",
      "    printable = '0123456789abcdefghijklmnopqrstuvwxyzABCDEFGHIJKLMNOPQRSTU...\n",
      "    punctuation = '!\"#$%&\\'()*+,-./:;<=>?@[\\\\]^_`{|}~'\n",
      "    whitespace = ' \\t\\n\\r\\x0b\\x0c'\n",
      "\n",
      "FILE\n",
      "    /opt/anaconda3/lib/python3.12/string.py\n",
      "\n",
      "\n"
     ]
    }
   ],
   "execution_count": 3
  },
  {
   "metadata": {
    "ExecuteTime": {
     "end_time": "2024-09-26T03:46:03.387038Z",
     "start_time": "2024-09-26T03:46:03.383443Z"
    }
   },
   "cell_type": "code",
   "source": [
    "# Import specific items from a library\n",
    "from string import ascii_letters\n",
    "\n",
    "print(f'The ASCII letters are {ascii_letters}')"
   ],
   "id": "401c99eb54f5b25b",
   "outputs": [
    {
     "name": "stdout",
     "output_type": "stream",
     "text": [
      "The ASCII letters are abcdefghijklmnopqrstuvwxyzABCDEFGHIJKLMNOPQRSTUVWXYZ\n"
     ]
    }
   ],
   "execution_count": 5
  },
  {
   "metadata": {},
   "cell_type": "code",
   "outputs": [],
   "execution_count": null,
   "source": [
    "# ModuleNotFoundError example (only run if you want the error)\n",
    "# import pymarc"
   ],
   "id": "b18a7e3813e5a995"
  },
  {
   "metadata": {
    "ExecuteTime": {
     "end_time": "2024-09-26T03:49:08.946278Z",
     "start_time": "2024-09-26T03:49:06.650566Z"
    }
   },
   "cell_type": "code",
   "source": [
    "# Use pip to install the package (uncomment to install)\n",
    "%pip install pymarc\n",
    "import pymarc"
   ],
   "id": "5b99a9bb006187fb",
   "outputs": [
    {
     "name": "stdout",
     "output_type": "stream",
     "text": [
      "Collecting pymarc\r\n",
      "  Downloading pymarc-5.2.2-py3-none-any.whl.metadata (12 kB)\r\n",
      "Downloading pymarc-5.2.2-py3-none-any.whl (158 kB)\r\n",
      "\u001B[2K   \u001B[90m━━━━━━━━━━━━━━━━━━━━━━━━━━━━━━━━━━━━━━━━\u001B[0m \u001B[32m158.8/158.8 kB\u001B[0m \u001B[31m1.8 MB/s\u001B[0m eta \u001B[36m0:00:00\u001B[0ma \u001B[36m0:00:01\u001B[0m\r\n",
      "\u001B[?25hInstalling collected packages: pymarc\r\n",
      "Successfully installed pymarc-5.2.2\r\n",
      "Note: you may need to restart the kernel to use updated packages.\n"
     ]
    }
   ],
   "execution_count": 6
  },
  {
   "metadata": {
    "ExecuteTime": {
     "end_time": "2024-09-26T04:03:13.095059Z",
     "start_time": "2024-09-26T04:03:13.069372Z"
    }
   },
   "cell_type": "code",
   "source": [
    "# Importing pandas with an alias\n",
    "import pandas as pd\n",
    "\n",
    "\n",
    "# Loading CSV file into pandas DataFrame\n",
    "df = pd.read_csv('../data/2022_circ.csv')  # You need a valid CSV file path here\n",
    "df.head()\n",
    "\n",
    "# Using pandas `info()` method to inspect DataFrame\n",
    "df.info()\n",
    "\n",
    "# Using pandas `describe()` to get summary statistics\n",
    "df.describe()\n"
   ],
   "id": "2ae6ebc0436dc28c",
   "outputs": [
    {
     "name": "stdout",
     "output_type": "stream",
     "text": [
      "<class 'pandas.core.frame.DataFrame'>\n",
      "RangeIndex: 81 entries, 0 to 80\n",
      "Data columns (total 17 columns):\n",
      " #   Column     Non-Null Count  Dtype  \n",
      "---  ------     --------------  -----  \n",
      " 0   branch     81 non-null     object \n",
      " 1   address    81 non-null     object \n",
      " 2   city       81 non-null     object \n",
      " 3   zip code   81 non-null     float64\n",
      " 4   january    81 non-null     int64  \n",
      " 5   february   81 non-null     int64  \n",
      " 6   march      81 non-null     int64  \n",
      " 7   april      81 non-null     int64  \n",
      " 8   may        81 non-null     int64  \n",
      " 9   june       81 non-null     int64  \n",
      " 10  july       81 non-null     int64  \n",
      " 11  august     81 non-null     int64  \n",
      " 12  september  81 non-null     int64  \n",
      " 13  october    81 non-null     int64  \n",
      " 14  november   81 non-null     int64  \n",
      " 15  december   81 non-null     int64  \n",
      " 16  ytd        81 non-null     int64  \n",
      "dtypes: float64(1), int64(13), object(3)\n",
      "memory usage: 10.9+ KB\n"
     ]
    },
    {
     "data": {
      "text/plain": [
       "           zip code       january      february         march         april  \\\n",
       "count     81.000000     81.000000     81.000000     81.000000     81.000000   \n",
       "mean   60632.358025   3452.987654   3047.444444   3613.469136   3500.913580   \n",
       "std       27.971552   4435.695220   4075.917038   4789.373973   4458.024162   \n",
       "min    60605.000000      0.000000      0.000000      0.000000      0.000000   \n",
       "25%    60617.000000    611.000000    579.000000    755.000000    775.000000   \n",
       "50%    60629.000000   1712.000000   1563.000000   1709.000000   1846.000000   \n",
       "75%    60643.000000   4795.000000   4258.000000   5200.000000   4931.000000   \n",
       "max    60827.000000  25207.000000  25276.000000  29870.000000  25578.000000   \n",
       "\n",
       "                may          june          july        august     september  \\\n",
       "count     81.000000     81.000000     81.000000     81.000000     81.000000   \n",
       "mean    3115.345679   3606.641975   3777.074074   3773.629630   3487.123457   \n",
       "std     4076.371294   4529.175102   4623.343008   4658.632751   4251.322307   \n",
       "min        0.000000      0.000000      0.000000      0.000000      0.000000   \n",
       "25%      629.000000    804.000000    835.000000    783.000000    747.000000   \n",
       "50%     1575.000000   1808.000000   1914.000000   2191.000000   2172.000000   \n",
       "75%     4200.000000   4959.000000   5395.000000   5309.000000   4991.000000   \n",
       "max    23141.000000  25830.000000  26692.000000  26071.000000  24423.000000   \n",
       "\n",
       "            october      november      december            ytd  \n",
       "count     81.000000     81.000000     81.000000      81.000000  \n",
       "mean    3424.123457   3420.592593   3045.740741   41265.086420  \n",
       "std     4154.300384   4196.489988   3759.827362   51479.220988  \n",
       "min        0.000000      0.000000      0.000000       0.000000  \n",
       "25%      761.000000    718.000000    753.000000    8920.000000  \n",
       "50%     2054.000000   1988.000000   1469.000000   23735.000000  \n",
       "75%     4733.000000   4856.000000   4241.000000   55614.000000  \n",
       "max    23921.000000  24073.000000  21258.000000  301340.000000  "
      ],
      "text/html": [
       "<div>\n",
       "<style scoped>\n",
       "    .dataframe tbody tr th:only-of-type {\n",
       "        vertical-align: middle;\n",
       "    }\n",
       "\n",
       "    .dataframe tbody tr th {\n",
       "        vertical-align: top;\n",
       "    }\n",
       "\n",
       "    .dataframe thead th {\n",
       "        text-align: right;\n",
       "    }\n",
       "</style>\n",
       "<table border=\"1\" class=\"dataframe\">\n",
       "  <thead>\n",
       "    <tr style=\"text-align: right;\">\n",
       "      <th></th>\n",
       "      <th>zip code</th>\n",
       "      <th>january</th>\n",
       "      <th>february</th>\n",
       "      <th>march</th>\n",
       "      <th>april</th>\n",
       "      <th>may</th>\n",
       "      <th>june</th>\n",
       "      <th>july</th>\n",
       "      <th>august</th>\n",
       "      <th>september</th>\n",
       "      <th>october</th>\n",
       "      <th>november</th>\n",
       "      <th>december</th>\n",
       "      <th>ytd</th>\n",
       "    </tr>\n",
       "  </thead>\n",
       "  <tbody>\n",
       "    <tr>\n",
       "      <th>count</th>\n",
       "      <td>81.000000</td>\n",
       "      <td>81.000000</td>\n",
       "      <td>81.000000</td>\n",
       "      <td>81.000000</td>\n",
       "      <td>81.000000</td>\n",
       "      <td>81.000000</td>\n",
       "      <td>81.000000</td>\n",
       "      <td>81.000000</td>\n",
       "      <td>81.000000</td>\n",
       "      <td>81.000000</td>\n",
       "      <td>81.000000</td>\n",
       "      <td>81.000000</td>\n",
       "      <td>81.000000</td>\n",
       "      <td>81.000000</td>\n",
       "    </tr>\n",
       "    <tr>\n",
       "      <th>mean</th>\n",
       "      <td>60632.358025</td>\n",
       "      <td>3452.987654</td>\n",
       "      <td>3047.444444</td>\n",
       "      <td>3613.469136</td>\n",
       "      <td>3500.913580</td>\n",
       "      <td>3115.345679</td>\n",
       "      <td>3606.641975</td>\n",
       "      <td>3777.074074</td>\n",
       "      <td>3773.629630</td>\n",
       "      <td>3487.123457</td>\n",
       "      <td>3424.123457</td>\n",
       "      <td>3420.592593</td>\n",
       "      <td>3045.740741</td>\n",
       "      <td>41265.086420</td>\n",
       "    </tr>\n",
       "    <tr>\n",
       "      <th>std</th>\n",
       "      <td>27.971552</td>\n",
       "      <td>4435.695220</td>\n",
       "      <td>4075.917038</td>\n",
       "      <td>4789.373973</td>\n",
       "      <td>4458.024162</td>\n",
       "      <td>4076.371294</td>\n",
       "      <td>4529.175102</td>\n",
       "      <td>4623.343008</td>\n",
       "      <td>4658.632751</td>\n",
       "      <td>4251.322307</td>\n",
       "      <td>4154.300384</td>\n",
       "      <td>4196.489988</td>\n",
       "      <td>3759.827362</td>\n",
       "      <td>51479.220988</td>\n",
       "    </tr>\n",
       "    <tr>\n",
       "      <th>min</th>\n",
       "      <td>60605.000000</td>\n",
       "      <td>0.000000</td>\n",
       "      <td>0.000000</td>\n",
       "      <td>0.000000</td>\n",
       "      <td>0.000000</td>\n",
       "      <td>0.000000</td>\n",
       "      <td>0.000000</td>\n",
       "      <td>0.000000</td>\n",
       "      <td>0.000000</td>\n",
       "      <td>0.000000</td>\n",
       "      <td>0.000000</td>\n",
       "      <td>0.000000</td>\n",
       "      <td>0.000000</td>\n",
       "      <td>0.000000</td>\n",
       "    </tr>\n",
       "    <tr>\n",
       "      <th>25%</th>\n",
       "      <td>60617.000000</td>\n",
       "      <td>611.000000</td>\n",
       "      <td>579.000000</td>\n",
       "      <td>755.000000</td>\n",
       "      <td>775.000000</td>\n",
       "      <td>629.000000</td>\n",
       "      <td>804.000000</td>\n",
       "      <td>835.000000</td>\n",
       "      <td>783.000000</td>\n",
       "      <td>747.000000</td>\n",
       "      <td>761.000000</td>\n",
       "      <td>718.000000</td>\n",
       "      <td>753.000000</td>\n",
       "      <td>8920.000000</td>\n",
       "    </tr>\n",
       "    <tr>\n",
       "      <th>50%</th>\n",
       "      <td>60629.000000</td>\n",
       "      <td>1712.000000</td>\n",
       "      <td>1563.000000</td>\n",
       "      <td>1709.000000</td>\n",
       "      <td>1846.000000</td>\n",
       "      <td>1575.000000</td>\n",
       "      <td>1808.000000</td>\n",
       "      <td>1914.000000</td>\n",
       "      <td>2191.000000</td>\n",
       "      <td>2172.000000</td>\n",
       "      <td>2054.000000</td>\n",
       "      <td>1988.000000</td>\n",
       "      <td>1469.000000</td>\n",
       "      <td>23735.000000</td>\n",
       "    </tr>\n",
       "    <tr>\n",
       "      <th>75%</th>\n",
       "      <td>60643.000000</td>\n",
       "      <td>4795.000000</td>\n",
       "      <td>4258.000000</td>\n",
       "      <td>5200.000000</td>\n",
       "      <td>4931.000000</td>\n",
       "      <td>4200.000000</td>\n",
       "      <td>4959.000000</td>\n",
       "      <td>5395.000000</td>\n",
       "      <td>5309.000000</td>\n",
       "      <td>4991.000000</td>\n",
       "      <td>4733.000000</td>\n",
       "      <td>4856.000000</td>\n",
       "      <td>4241.000000</td>\n",
       "      <td>55614.000000</td>\n",
       "    </tr>\n",
       "    <tr>\n",
       "      <th>max</th>\n",
       "      <td>60827.000000</td>\n",
       "      <td>25207.000000</td>\n",
       "      <td>25276.000000</td>\n",
       "      <td>29870.000000</td>\n",
       "      <td>25578.000000</td>\n",
       "      <td>23141.000000</td>\n",
       "      <td>25830.000000</td>\n",
       "      <td>26692.000000</td>\n",
       "      <td>26071.000000</td>\n",
       "      <td>24423.000000</td>\n",
       "      <td>23921.000000</td>\n",
       "      <td>24073.000000</td>\n",
       "      <td>21258.000000</td>\n",
       "      <td>301340.000000</td>\n",
       "    </tr>\n",
       "  </tbody>\n",
       "</table>\n",
       "</div>"
      ]
     },
     "execution_count": 9,
     "metadata": {},
     "output_type": "execute_result"
    }
   ],
   "execution_count": 9
  },
  {
   "metadata": {
    "ExecuteTime": {
     "end_time": "2024-09-26T04:03:25.418830Z",
     "start_time": "2024-09-26T04:03:25.415915Z"
    }
   },
   "cell_type": "code",
   "source": [
    "## Challenge: Importing With Aliases\n",
    "\n",
    "# 1. Fill in the blanks so that the program below prints `0123456789`.\n",
    "import string as s\n",
    "numbers = s.digits\n",
    "print(numbers)\n"
   ],
   "id": "8ca8ae80213d5e6c",
   "outputs": [
    {
     "name": "stdout",
     "output_type": "stream",
     "text": [
      "0123456789\n"
     ]
    }
   ],
   "execution_count": 10
  },
  {
   "metadata": {
    "ExecuteTime": {
     "end_time": "2024-09-26T04:03:59.783253Z",
     "start_time": "2024-09-26T04:03:59.781262Z"
    }
   },
   "cell_type": "code",
   "source": [
    "# The alternative without using alias:\n",
    "import string\n",
    "numbers = string.digits\n",
    "print(numbers)\n",
    "\n",
    "# Which version do you find easier to read?\n"
   ],
   "id": "d71e70fd747e4ec4",
   "outputs": [
    {
     "name": "stdout",
     "output_type": "stream",
     "text": [
      "0123456789\n"
     ]
    }
   ],
   "execution_count": 12
  },
  {
   "metadata": {
    "ExecuteTime": {
     "end_time": "2024-09-26T04:04:14.233371Z",
     "start_time": "2024-09-26T04:04:14.231237Z"
    }
   },
   "cell_type": "code",
   "source": [
    "\n",
    "## Bonus Challenge: Locating the Right Module\n",
    "\n",
    "# Given the variables year, month, and day, how would you generate a date in the standard iso format:\n",
    "year = 1971\n",
    "month = 8\n",
    "day = 26\n",
    "\n",
    "# Using the datetime library to create an ISO format date\n",
    "import datetime\n",
    "\n",
    "iso_date = datetime.date(year, month, day).isoformat()\n",
    "print(iso_date)\n",
    "\n",
    "# More compact version:\n",
    "print(datetime.date(year, month, day).isoformat())\n"
   ],
   "id": "a8136b862ed27253",
   "outputs": [
    {
     "name": "stdout",
     "output_type": "stream",
     "text": [
      "1971-08-26\n",
      "1971-08-26\n"
     ]
    }
   ],
   "execution_count": 13
  },
  {
   "metadata": {},
   "cell_type": "code",
   "outputs": [],
   "execution_count": null,
   "source": "",
   "id": "b34fb7c0faba241"
  }
 ],
 "metadata": {
  "kernelspec": {
   "display_name": "Python 3",
   "language": "python",
   "name": "python3"
  },
  "language_info": {
   "codemirror_mode": {
    "name": "ipython",
    "version": 2
   },
   "file_extension": ".py",
   "mimetype": "text/x-python",
   "name": "python",
   "nbconvert_exporter": "python",
   "pygments_lexer": "ipython2",
   "version": "2.7.6"
  }
 },
 "nbformat": 4,
 "nbformat_minor": 5
}
