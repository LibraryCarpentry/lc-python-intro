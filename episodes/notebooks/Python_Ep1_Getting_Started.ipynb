{
 "cells": [
  {
   "metadata": {},
   "cell_type": "markdown",
   "source": [
    "# Getting Started with Python in Google Colab\n",
    "\n",
    "Welcome to your first Python lesson in Google Colab! This notebook will introduce you to:\n",
    "\n",
    "1. Running Python code\n",
    "2. Basic calculations\n",
    "3. Data types\n",
    "4. Variables\n",
    "\n",
    "Follow the instructions in the code cell below to get started. Remember, you can always refer to the Help menu if you need assistance.\n",
    "\n",
    "Run the cell below to see Python in action:"
   ],
   "id": "431ba7427ada2a0f"
  },
  {
   "metadata": {
    "ExecuteTime": {
     "end_time": "2024-09-25T22:38:07.082968Z",
     "start_time": "2024-09-25T22:38:07.079362Z"
    }
   },
   "cell_type": "code",
   "source": [
    "# Welcome to Google Colab! This is a Python code cell.\n",
    "\n",
    "# To run a code cell, click the play button (▶️) on the left side of the cell\n",
    "# or use the keyboard shortcut Shift + Enter.\n",
    "\n",
    "7 * 3"
   ],
   "id": "fcb53c7c58e3055",
   "outputs": [
    {
     "data": {
      "text/plain": [
       "21"
      ]
     },
     "execution_count": 1,
     "metadata": {},
     "output_type": "execute_result"
    }
   ],
   "execution_count": 1
  },
  {
   "metadata": {
    "ExecuteTime": {
     "end_time": "2024-09-25T22:47:24.218236Z",
     "start_time": "2024-09-25T22:47:24.214368Z"
    }
   },
   "cell_type": "code",
   "source": [
    "# Let's start with some simple calculations:\n",
    "\n",
    "# Multiplication\n",
    "print(\"7 * 3 =\", 7 * 3)\n",
    "\n",
    "# Addition\n",
    "print(\"2 + 1 =\", 2 + 1)"
   ],
   "id": "117c29e75ba65f8c",
   "outputs": [
    {
     "name": "stdout",
     "output_type": "stream",
     "text": [
      "7 * 3 = 21\n",
      "2 + 1 = 3\n"
     ]
    }
   ],
   "execution_count": 7
  },
  {
   "metadata": {
    "ExecuteTime": {
     "end_time": "2024-09-25T22:59:19.509561Z",
     "start_time": "2024-09-25T22:59:19.507475Z"
    }
   },
   "cell_type": "code",
   "source": [
    "# You can also assign values to variables:\n",
    "x = 10\n",
    "y = 5\n",
    "\n",
    "# And use these variables in calculations:\n",
    "result = x + y\n",
    "print(f\"{x} + {y} = {result}\")"
   ],
   "id": "d92fa5ac440ffdb1",
   "outputs": [
    {
     "name": "stdout",
     "output_type": "stream",
     "text": [
      "10 + 5 = 15\n"
     ]
    }
   ],
   "execution_count": 13
  },
  {
   "metadata": {
    "ExecuteTime": {
     "end_time": "2024-09-25T22:59:20.429721Z",
     "start_time": "2024-09-25T22:59:20.428024Z"
    }
   },
   "cell_type": "code",
   "source": [
    "# To add a new code cell, click the \"+ Code\" button in the toolbar\n",
    "# or use the keyboard shortcut Ctrl + M B (or Cmd + B on Mac).\n",
    "\n",
    "# Remember to save your work regularly by clicking File -> Save\n",
    "# or using the keyboard shortcut Ctrl + S (or Cmd + S on Mac).\n",
    "\n",
    "# If you need help, click the \"Help\" menu at the top of the page.\n",
    "\n",
    "print(\"\\nCongratulations! You've run your first Python code in Google Colab!\")"
   ],
   "id": "3da06b84c8b2a4c3",
   "outputs": [
    {
     "name": "stdout",
     "output_type": "stream",
     "text": [
      "\n",
      "Congratulations! You've run your first Python code in Google Colab!\n"
     ]
    }
   ],
   "execution_count": 14
  },
  {
   "metadata": {},
   "cell_type": "code",
   "outputs": [],
   "execution_count": null,
   "source": [
    "# Additional note on data types \n",
    "\n",
    "# Let's explore data types:\n",
    "\n",
    "# Integer (whole numbers)\n",
    "print(\"Integer:\")\n",
    "print(3)\n",
    "print(type(3))\n",
    "\n",
    "# Float (decimal numbers)\n",
    "print(\"\\nFloat:\")\n",
    "print(3.0)\n",
    "print(type(3.0))\n",
    "\n",
    "# String (text)\n",
    "print(\"\\nString:\")\n",
    "print('3')\n",
    "print(type('3'))\n",
    "\n",
    "# Notice how '3' (string) is different from 3 (integer)\n",
    "print('3' == 3) "
   ],
   "id": "471d33946dd4e42f"
  }
 ],
 "metadata": {
  "kernelspec": {
   "display_name": "Python 3",
   "language": "python",
   "name": "python3"
  },
  "language_info": {
   "codemirror_mode": {
    "name": "ipython",
    "version": 2
   },
   "file_extension": ".py",
   "mimetype": "text/x-python",
   "name": "python",
   "nbconvert_exporter": "python",
   "pygments_lexer": "ipython2",
   "version": "2.7.6"
  }
 },
 "nbformat": 4,
 "nbformat_minor": 5
}
