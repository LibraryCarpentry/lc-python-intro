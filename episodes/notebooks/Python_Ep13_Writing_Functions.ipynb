{
 "cells": [
  {
   "metadata": {},
   "cell_type": "markdown",
   "source": "# Writing Functions ",
   "id": "4e6c9cbf5598689e"
  },
  {
   "metadata": {
    "ExecuteTime": {
     "end_time": "2024-09-26T17:01:55.793525Z",
     "start_time": "2024-09-26T17:01:55.792036Z"
    }
   },
   "cell_type": "code",
   "source": [
    "# Function to print a greeting message\n",
    "def print_greeting():\n",
    "    print('Hello!')\n",
    "\n",
    "# Calling the function to test it\n",
    "print_greeting()"
   ],
   "id": "eb606824684f57dd",
   "outputs": [
    {
     "name": "stdout",
     "output_type": "stream",
     "text": [
      "Hello!\n"
     ]
    }
   ],
   "execution_count": 1
  },
  {
   "metadata": {
    "ExecuteTime": {
     "end_time": "2024-09-26T17:02:16.218279Z",
     "start_time": "2024-09-26T17:02:16.214716Z"
    }
   },
   "cell_type": "code",
   "source": [
    "# Function to print a formatted date\n",
    "def print_date(year, month, day):\n",
    "    joined = f'{year}/{month}/{day}'\n",
    "    print(joined)\n",
    "\n",
    "# Calling the function with arguments\n",
    "print_date(1776, 7, 4)"
   ],
   "id": "54ebacf725e02a95",
   "outputs": [
    {
     "name": "stdout",
     "output_type": "stream",
     "text": [
      "1776/7/4\n"
     ]
    }
   ],
   "execution_count": 2
  },
  {
   "metadata": {
    "ExecuteTime": {
     "end_time": "2024-09-26T17:02:31.159643Z",
     "start_time": "2024-09-26T17:02:31.156165Z"
    }
   },
   "cell_type": "code",
   "source": [
    "\n",
    "# Example of how the function will throw an error if no arguments are passed\n",
    "# Uncomment the line below to see the error\n",
    "# print_date()\n",
    "\n",
    "# Function to calculate library fine\n",
    "def calc_fine(days_overdue):\n",
    "    if days_overdue <= 10:\n",
    "        fine = days_overdue * 0.25\n",
    "    else:\n",
    "        fine = (days_overdue * 0.25) + (days_overdue * 0.50)\n",
    "    return fine"
   ],
   "id": "23baf4f123d0d708",
   "outputs": [],
   "execution_count": 3
  },
  {
   "metadata": {
    "ExecuteTime": {
     "end_time": "2024-09-26T17:05:16.925483Z",
     "start_time": "2024-09-26T17:05:16.922383Z"
    }
   },
   "cell_type": "code",
   "source": [
    "# Calculate fine for overdue days and format the output\n",
    "days_overdue = 12 \n",
    "\n",
    "fine = calc_fine(days_overdue)\n",
    "print(f'Fine owed: ${fine:.2f}')"
   ],
   "id": "7fb186170f941c86",
   "outputs": [
    {
     "name": "stdout",
     "output_type": "stream",
     "text": [
      "Fine owed: $9.00\n"
     ]
    }
   ],
   "execution_count": 9
  },
  {
   "metadata": {
    "ExecuteTime": {
     "end_time": "2024-09-26T17:05:17.200638Z",
     "start_time": "2024-09-26T17:05:17.196854Z"
    }
   },
   "cell_type": "code",
   "source": [
    "# Example where function returns None because no explicit return\n",
    "def print_date(year, month, day):\n",
    "    joined = f'{year}/{month}/{day}'\n",
    "    print(joined)\n",
    "\n",
    "result = print_date(1970, 6, 21)\n",
    "print(f'result of call is: {result}')"
   ],
   "id": "94064baf587a1b81",
   "outputs": [
    {
     "name": "stdout",
     "output_type": "stream",
     "text": [
      "1970/6/21\n",
      "result of call is: None\n"
     ]
    }
   ],
   "execution_count": 10
  },
  {
   "metadata": {
    "ExecuteTime": {
     "end_time": "2024-09-26T17:05:17.357034Z",
     "start_time": "2024-09-26T17:05:17.354327Z"
    }
   },
   "cell_type": "code",
   "source": [
    "\n",
    "# Example of local and global variable scope\n",
    "initial_fine = 0.25\n",
    "late_fine = 0.50\n",
    "\n",
    "def calc_fine(days_overdue):\n",
    "    if days_overdue <= 10:\n",
    "        days_overdue = days_overdue * initial_fine\n",
    "    else:\n",
    "        days_overdue = (days_overdue * initial_fine) + (days_overdue * late_fine)\n",
    "    return days_overdue\n",
    "\n",
    "days_overdue = 12 \n",
    "\n",
    "# Using global variables in the function\n",
    "fine = calc_fine(days_overdue)\n",
    "print(f'Fine owed: ${fine:.2f}')\n",
    "print(f'Fine rates: ${initial_fine:.2f}, ${late_fine:.2f}')\n",
    "\n",
    "# Uncomment the line below to see the error because 'days_overdue' is a local variable\n",
    "print(f'Days overdue: {days_overdue}')"
   ],
   "id": "f488f82553ce923b",
   "outputs": [
    {
     "name": "stdout",
     "output_type": "stream",
     "text": [
      "Fine owed: $9.00\n",
      "Fine rates: $0.25, $0.50\n",
      "Days overdue: 12\n"
     ]
    }
   ],
   "execution_count": 11
  },
  {
   "metadata": {
    "ExecuteTime": {
     "end_time": "2024-09-26T17:05:34.008726Z",
     "start_time": "2024-09-26T17:05:34.006148Z"
    }
   },
   "cell_type": "code",
   "source": [
    "# Function with docstring\n",
    "def fahr_to_celsius(temp):\n",
    "    \"\"\"Convert fahrenheit values to celsius.\n",
    "    Input a value in fahrenheit.\n",
    "    Output a value in celsius.\"\"\"\n",
    "    return (temp - 32) * (5/9)\n",
    "\n",
    "# Checking the function help documentation\n",
    "help(fahr_to_celsius)"
   ],
   "id": "61bfe90cde32f833",
   "outputs": [
    {
     "name": "stdout",
     "output_type": "stream",
     "text": [
      "Help on function fahr_to_celsius in module __main__:\n",
      "\n",
      "fahr_to_celsius(temp)\n",
      "    Convert fahrenheit values to celsius.\n",
      "    Input a value in fahrenheit.\n",
      "    Output a value in celsius.\n",
      "\n"
     ]
    }
   ],
   "execution_count": 12
  },
  {
   "metadata": {
    "ExecuteTime": {
     "end_time": "2024-09-26T17:22:27.021849Z",
     "start_time": "2024-09-26T17:22:27.016962Z"
    }
   },
   "cell_type": "code",
   "source": [
    "# Challenge: Writing an addition function\n",
    "def addition(x, y):\n",
    "    return x + y\n",
    "\n",
    "# Testing the addition function\n",
    "print(addition(3, 6))"
   ],
   "id": "18474c7b981643ad",
   "outputs": [
    {
     "name": "stdout",
     "output_type": "stream",
     "text": [
      "9\n"
     ]
    }
   ],
   "execution_count": 13
  },
  {
   "metadata": {
    "ExecuteTime": {
     "end_time": "2024-09-26T17:22:35.836304Z",
     "start_time": "2024-09-26T17:22:35.831566Z"
    }
   },
   "cell_type": "code",
   "source": [
    "\n",
    "# Bonus Challenge: Writing a grade converter function\n",
    "def grade_converter(score):\n",
    "    if score > 100 or score < 0:\n",
    "        return 'Invalid score'\n",
    "    elif score >= 90:\n",
    "        return 'A'\n",
    "    elif score >= 80:\n",
    "        return 'B'\n",
    "    elif score >= 70:\n",
    "        return 'C'\n",
    "    elif score >= 60:\n",
    "        return 'D'\n",
    "    else:\n",
    "        return 'F'\n",
    "\n",
    "# Testing the grade converter function\n",
    "print(grade_converter(88))"
   ],
   "id": "9e4e6393c72c7d48",
   "outputs": [
    {
     "name": "stdout",
     "output_type": "stream",
     "text": [
      "B\n"
     ]
    }
   ],
   "execution_count": 14
  },
  {
   "metadata": {
    "ExecuteTime": {
     "end_time": "2024-09-26T17:22:49.982967Z",
     "start_time": "2024-09-26T17:22:49.980091Z"
    }
   },
   "cell_type": "code",
   "source": [
    "# Bonus Challenge: Identify global and local variables\n",
    "fine_rate = 0.25\n",
    "\n",
    "def calc_fine(days_overdue):\n",
    "    if days_overdue <= 10:\n",
    "        fine = days_overdue * fine_rate\n",
    "    else:\n",
    "        fine = (days_overdue * fine_rate) + (days_overdue * (fine_rate*2))\n",
    "    return fine\n",
    "\n",
    "\n",
    "total_fine = calc_fine(20)\n",
    "print(f'Fine owed: ${total_fine:.2f}')"
   ],
   "id": "19207afe81ae85b3",
   "outputs": [
    {
     "name": "stdout",
     "output_type": "stream",
     "text": [
      "Fine owed: $15.00\n"
     ]
    }
   ],
   "execution_count": 15
  },
  {
   "metadata": {
    "ExecuteTime": {
     "end_time": "2024-09-26T17:24:53.910644Z",
     "start_time": "2024-09-26T17:24:53.891291Z"
    }
   },
   "cell_type": "code",
   "source": [
    "\n",
    "# Bonus Challenge: Function to load CSVs into a Pandas DataFrame\n",
    "import glob\n",
    "import pandas as pd\n",
    "\n",
    "def concat_csvs(path):\n",
    "    dfs = []  # Empty list to store DataFrames\n",
    "    for csv in sorted(glob.glob(path)):\n",
    "        data = pd.read_csv(csv)\n",
    "        dfs.append(data)\n",
    "    \n",
    "    # Concatenate all DataFrames into one\n",
    "    df = pd.concat(dfs, ignore_index=True)\n",
    "    return df\n",
    "\n",
    "# Example of calling the concat_csvs function\n",
    "df = concat_csvs('../data/*.csv')\n",
    "df"
   ],
   "id": "f3e01cd5939d0fe4",
   "outputs": [
    {
     "data": {
      "text/plain": [
       "                     branch                  address     city  zip code  \\\n",
       "0               Albany Park     5150 N. Kimball Ave.  Chicago   60625.0   \n",
       "1                   Altgeld    13281 S. Corliss Ave.  Chicago   60827.0   \n",
       "2            Archer Heights      5055 S. Archer Ave.  Chicago   60632.0   \n",
       "3                    Austin        5615 W. Race Ave.  Chicago   60644.0   \n",
       "4             Austin-Irving  6100 W. Irving Park Rd.  Chicago   60634.0   \n",
       "...                     ...                      ...      ...       ...   \n",
       "1121           West Pullman                      NaN      NaN       NaN   \n",
       "1122              West Town                      NaN      NaN       NaN   \n",
       "1123  Whitney M. Young, Jr.                      NaN      NaN       NaN   \n",
       "1124       Woodson Regional                      NaN      NaN       NaN   \n",
       "1125     Wrightwood-Ashburn                      NaN      NaN       NaN   \n",
       "\n",
       "      january  february    march    april      may     june     july   august  \\\n",
       "0      8427.0    7023.0   9702.0   9344.0   8865.0  11650.0  11778.0  11306.0   \n",
       "1      1258.0     708.0    854.0    804.0    816.0    870.0    713.0    480.0   \n",
       "2      8104.0    6899.0   9329.0   9124.0   7472.0   8314.0   8116.0   9177.0   \n",
       "3      1755.0    1316.0   1942.0   2200.0   2133.0   2359.0   2080.0   2405.0   \n",
       "4     12593.0   11791.0  14807.0  14382.0  11754.0  14402.0  14605.0  15164.0   \n",
       "...       ...       ...      ...      ...      ...      ...      ...      ...   \n",
       "1121      NaN       NaN      NaN      NaN      NaN      NaN      NaN      NaN   \n",
       "1122      NaN       NaN      NaN      NaN      NaN      NaN      NaN      NaN   \n",
       "1123      NaN       NaN      NaN      NaN      NaN      NaN      NaN      NaN   \n",
       "1124      NaN       NaN      NaN      NaN      NaN      NaN      NaN      NaN   \n",
       "1125      NaN       NaN      NaN      NaN      NaN      NaN      NaN      NaN   \n",
       "\n",
       "      september  october  november  december       ytd year  Unnamed: 0  \\\n",
       "0       10466.0  10997.0   10567.0    9934.0  120059.0  NaN         NaN   \n",
       "1         702.0    927.0     787.0     692.0    9611.0  NaN         NaN   \n",
       "2        9033.0   9709.0    8809.0    7865.0  101951.0  NaN         NaN   \n",
       "3        2417.0   2571.0    2233.0    2116.0   25527.0  NaN         NaN   \n",
       "4       14306.0  15357.0   14069.0   12404.0  165634.0  NaN         NaN   \n",
       "...         ...      ...       ...       ...       ...  ...         ...   \n",
       "1121        NaN      NaN       NaN       NaN       NaN  NaN        77.0   \n",
       "1122        NaN      NaN       NaN       NaN       NaN  NaN        78.0   \n",
       "1123        NaN      NaN       NaN       NaN       NaN  NaN        79.0   \n",
       "1124        NaN      NaN       NaN       NaN       NaN  NaN        80.0   \n",
       "1125        NaN      NaN       NaN       NaN       NaN  NaN        81.0   \n",
       "\n",
       "      circulation  \n",
       "0             NaN  \n",
       "1             NaN  \n",
       "2             NaN  \n",
       "3             NaN  \n",
       "4             NaN  \n",
       "...           ...  \n",
       "1121     295327.0  \n",
       "1122     922876.0  \n",
       "1123     259680.0  \n",
       "1124     823793.0  \n",
       "1125     302285.0  \n",
       "\n",
       "[1126 rows x 20 columns]"
      ],
      "text/html": [
       "<div>\n",
       "<style scoped>\n",
       "    .dataframe tbody tr th:only-of-type {\n",
       "        vertical-align: middle;\n",
       "    }\n",
       "\n",
       "    .dataframe tbody tr th {\n",
       "        vertical-align: top;\n",
       "    }\n",
       "\n",
       "    .dataframe thead th {\n",
       "        text-align: right;\n",
       "    }\n",
       "</style>\n",
       "<table border=\"1\" class=\"dataframe\">\n",
       "  <thead>\n",
       "    <tr style=\"text-align: right;\">\n",
       "      <th></th>\n",
       "      <th>branch</th>\n",
       "      <th>address</th>\n",
       "      <th>city</th>\n",
       "      <th>zip code</th>\n",
       "      <th>january</th>\n",
       "      <th>february</th>\n",
       "      <th>march</th>\n",
       "      <th>april</th>\n",
       "      <th>may</th>\n",
       "      <th>june</th>\n",
       "      <th>july</th>\n",
       "      <th>august</th>\n",
       "      <th>september</th>\n",
       "      <th>october</th>\n",
       "      <th>november</th>\n",
       "      <th>december</th>\n",
       "      <th>ytd</th>\n",
       "      <th>year</th>\n",
       "      <th>Unnamed: 0</th>\n",
       "      <th>circulation</th>\n",
       "    </tr>\n",
       "  </thead>\n",
       "  <tbody>\n",
       "    <tr>\n",
       "      <th>0</th>\n",
       "      <td>Albany Park</td>\n",
       "      <td>5150 N. Kimball Ave.</td>\n",
       "      <td>Chicago</td>\n",
       "      <td>60625.0</td>\n",
       "      <td>8427.0</td>\n",
       "      <td>7023.0</td>\n",
       "      <td>9702.0</td>\n",
       "      <td>9344.0</td>\n",
       "      <td>8865.0</td>\n",
       "      <td>11650.0</td>\n",
       "      <td>11778.0</td>\n",
       "      <td>11306.0</td>\n",
       "      <td>10466.0</td>\n",
       "      <td>10997.0</td>\n",
       "      <td>10567.0</td>\n",
       "      <td>9934.0</td>\n",
       "      <td>120059.0</td>\n",
       "      <td>NaN</td>\n",
       "      <td>NaN</td>\n",
       "      <td>NaN</td>\n",
       "    </tr>\n",
       "    <tr>\n",
       "      <th>1</th>\n",
       "      <td>Altgeld</td>\n",
       "      <td>13281 S. Corliss Ave.</td>\n",
       "      <td>Chicago</td>\n",
       "      <td>60827.0</td>\n",
       "      <td>1258.0</td>\n",
       "      <td>708.0</td>\n",
       "      <td>854.0</td>\n",
       "      <td>804.0</td>\n",
       "      <td>816.0</td>\n",
       "      <td>870.0</td>\n",
       "      <td>713.0</td>\n",
       "      <td>480.0</td>\n",
       "      <td>702.0</td>\n",
       "      <td>927.0</td>\n",
       "      <td>787.0</td>\n",
       "      <td>692.0</td>\n",
       "      <td>9611.0</td>\n",
       "      <td>NaN</td>\n",
       "      <td>NaN</td>\n",
       "      <td>NaN</td>\n",
       "    </tr>\n",
       "    <tr>\n",
       "      <th>2</th>\n",
       "      <td>Archer Heights</td>\n",
       "      <td>5055 S. Archer Ave.</td>\n",
       "      <td>Chicago</td>\n",
       "      <td>60632.0</td>\n",
       "      <td>8104.0</td>\n",
       "      <td>6899.0</td>\n",
       "      <td>9329.0</td>\n",
       "      <td>9124.0</td>\n",
       "      <td>7472.0</td>\n",
       "      <td>8314.0</td>\n",
       "      <td>8116.0</td>\n",
       "      <td>9177.0</td>\n",
       "      <td>9033.0</td>\n",
       "      <td>9709.0</td>\n",
       "      <td>8809.0</td>\n",
       "      <td>7865.0</td>\n",
       "      <td>101951.0</td>\n",
       "      <td>NaN</td>\n",
       "      <td>NaN</td>\n",
       "      <td>NaN</td>\n",
       "    </tr>\n",
       "    <tr>\n",
       "      <th>3</th>\n",
       "      <td>Austin</td>\n",
       "      <td>5615 W. Race Ave.</td>\n",
       "      <td>Chicago</td>\n",
       "      <td>60644.0</td>\n",
       "      <td>1755.0</td>\n",
       "      <td>1316.0</td>\n",
       "      <td>1942.0</td>\n",
       "      <td>2200.0</td>\n",
       "      <td>2133.0</td>\n",
       "      <td>2359.0</td>\n",
       "      <td>2080.0</td>\n",
       "      <td>2405.0</td>\n",
       "      <td>2417.0</td>\n",
       "      <td>2571.0</td>\n",
       "      <td>2233.0</td>\n",
       "      <td>2116.0</td>\n",
       "      <td>25527.0</td>\n",
       "      <td>NaN</td>\n",
       "      <td>NaN</td>\n",
       "      <td>NaN</td>\n",
       "    </tr>\n",
       "    <tr>\n",
       "      <th>4</th>\n",
       "      <td>Austin-Irving</td>\n",
       "      <td>6100 W. Irving Park Rd.</td>\n",
       "      <td>Chicago</td>\n",
       "      <td>60634.0</td>\n",
       "      <td>12593.0</td>\n",
       "      <td>11791.0</td>\n",
       "      <td>14807.0</td>\n",
       "      <td>14382.0</td>\n",
       "      <td>11754.0</td>\n",
       "      <td>14402.0</td>\n",
       "      <td>14605.0</td>\n",
       "      <td>15164.0</td>\n",
       "      <td>14306.0</td>\n",
       "      <td>15357.0</td>\n",
       "      <td>14069.0</td>\n",
       "      <td>12404.0</td>\n",
       "      <td>165634.0</td>\n",
       "      <td>NaN</td>\n",
       "      <td>NaN</td>\n",
       "      <td>NaN</td>\n",
       "    </tr>\n",
       "    <tr>\n",
       "      <th>...</th>\n",
       "      <td>...</td>\n",
       "      <td>...</td>\n",
       "      <td>...</td>\n",
       "      <td>...</td>\n",
       "      <td>...</td>\n",
       "      <td>...</td>\n",
       "      <td>...</td>\n",
       "      <td>...</td>\n",
       "      <td>...</td>\n",
       "      <td>...</td>\n",
       "      <td>...</td>\n",
       "      <td>...</td>\n",
       "      <td>...</td>\n",
       "      <td>...</td>\n",
       "      <td>...</td>\n",
       "      <td>...</td>\n",
       "      <td>...</td>\n",
       "      <td>...</td>\n",
       "      <td>...</td>\n",
       "      <td>...</td>\n",
       "    </tr>\n",
       "    <tr>\n",
       "      <th>1121</th>\n",
       "      <td>West Pullman</td>\n",
       "      <td>NaN</td>\n",
       "      <td>NaN</td>\n",
       "      <td>NaN</td>\n",
       "      <td>NaN</td>\n",
       "      <td>NaN</td>\n",
       "      <td>NaN</td>\n",
       "      <td>NaN</td>\n",
       "      <td>NaN</td>\n",
       "      <td>NaN</td>\n",
       "      <td>NaN</td>\n",
       "      <td>NaN</td>\n",
       "      <td>NaN</td>\n",
       "      <td>NaN</td>\n",
       "      <td>NaN</td>\n",
       "      <td>NaN</td>\n",
       "      <td>NaN</td>\n",
       "      <td>NaN</td>\n",
       "      <td>77.0</td>\n",
       "      <td>295327.0</td>\n",
       "    </tr>\n",
       "    <tr>\n",
       "      <th>1122</th>\n",
       "      <td>West Town</td>\n",
       "      <td>NaN</td>\n",
       "      <td>NaN</td>\n",
       "      <td>NaN</td>\n",
       "      <td>NaN</td>\n",
       "      <td>NaN</td>\n",
       "      <td>NaN</td>\n",
       "      <td>NaN</td>\n",
       "      <td>NaN</td>\n",
       "      <td>NaN</td>\n",
       "      <td>NaN</td>\n",
       "      <td>NaN</td>\n",
       "      <td>NaN</td>\n",
       "      <td>NaN</td>\n",
       "      <td>NaN</td>\n",
       "      <td>NaN</td>\n",
       "      <td>NaN</td>\n",
       "      <td>NaN</td>\n",
       "      <td>78.0</td>\n",
       "      <td>922876.0</td>\n",
       "    </tr>\n",
       "    <tr>\n",
       "      <th>1123</th>\n",
       "      <td>Whitney M. Young, Jr.</td>\n",
       "      <td>NaN</td>\n",
       "      <td>NaN</td>\n",
       "      <td>NaN</td>\n",
       "      <td>NaN</td>\n",
       "      <td>NaN</td>\n",
       "      <td>NaN</td>\n",
       "      <td>NaN</td>\n",
       "      <td>NaN</td>\n",
       "      <td>NaN</td>\n",
       "      <td>NaN</td>\n",
       "      <td>NaN</td>\n",
       "      <td>NaN</td>\n",
       "      <td>NaN</td>\n",
       "      <td>NaN</td>\n",
       "      <td>NaN</td>\n",
       "      <td>NaN</td>\n",
       "      <td>NaN</td>\n",
       "      <td>79.0</td>\n",
       "      <td>259680.0</td>\n",
       "    </tr>\n",
       "    <tr>\n",
       "      <th>1124</th>\n",
       "      <td>Woodson Regional</td>\n",
       "      <td>NaN</td>\n",
       "      <td>NaN</td>\n",
       "      <td>NaN</td>\n",
       "      <td>NaN</td>\n",
       "      <td>NaN</td>\n",
       "      <td>NaN</td>\n",
       "      <td>NaN</td>\n",
       "      <td>NaN</td>\n",
       "      <td>NaN</td>\n",
       "      <td>NaN</td>\n",
       "      <td>NaN</td>\n",
       "      <td>NaN</td>\n",
       "      <td>NaN</td>\n",
       "      <td>NaN</td>\n",
       "      <td>NaN</td>\n",
       "      <td>NaN</td>\n",
       "      <td>NaN</td>\n",
       "      <td>80.0</td>\n",
       "      <td>823793.0</td>\n",
       "    </tr>\n",
       "    <tr>\n",
       "      <th>1125</th>\n",
       "      <td>Wrightwood-Ashburn</td>\n",
       "      <td>NaN</td>\n",
       "      <td>NaN</td>\n",
       "      <td>NaN</td>\n",
       "      <td>NaN</td>\n",
       "      <td>NaN</td>\n",
       "      <td>NaN</td>\n",
       "      <td>NaN</td>\n",
       "      <td>NaN</td>\n",
       "      <td>NaN</td>\n",
       "      <td>NaN</td>\n",
       "      <td>NaN</td>\n",
       "      <td>NaN</td>\n",
       "      <td>NaN</td>\n",
       "      <td>NaN</td>\n",
       "      <td>NaN</td>\n",
       "      <td>NaN</td>\n",
       "      <td>NaN</td>\n",
       "      <td>81.0</td>\n",
       "      <td>302285.0</td>\n",
       "    </tr>\n",
       "  </tbody>\n",
       "</table>\n",
       "<p>1126 rows × 20 columns</p>\n",
       "</div>"
      ]
     },
     "execution_count": 18,
     "metadata": {},
     "output_type": "execute_result"
    }
   ],
   "execution_count": 18
  }
 ],
 "metadata": {
  "kernelspec": {
   "display_name": "Python 3",
   "language": "python",
   "name": "python3"
  },
  "language_info": {
   "codemirror_mode": {
    "name": "ipython",
    "version": 2
   },
   "file_extension": ".py",
   "mimetype": "text/x-python",
   "name": "python",
   "nbconvert_exporter": "python",
   "pygments_lexer": "ipython2",
   "version": "2.7.6"
  }
 },
 "nbformat": 4,
 "nbformat_minor": 5
}
