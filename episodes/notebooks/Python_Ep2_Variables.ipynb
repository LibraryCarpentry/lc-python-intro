{
 "cells": [
  {
   "metadata": {},
   "cell_type": "markdown",
   "source": "# Variables Tutorial in Python\n",
   "id": "516e96369cf77ea7"
  },
  {
   "metadata": {
    "ExecuteTime": {
     "end_time": "2024-09-25T23:09:07.685761Z",
     "start_time": "2024-09-25T23:09:07.683213Z"
    }
   },
   "cell_type": "code",
   "source": [
    "# 1. Assigning values to variables\n",
    "age = 42\n",
    "name = 'Ahmed'"
   ],
   "id": "a3871018c6863d95",
   "outputs": [],
   "execution_count": 1
  },
  {
   "metadata": {
    "ExecuteTime": {
     "end_time": "2024-09-25T23:09:13.446225Z",
     "start_time": "2024-09-25T23:09:13.442522Z"
    }
   },
   "cell_type": "code",
   "source": [
    "# 2. Printing variables\n",
    "print(\"Printing variables:\")\n",
    "print(name, age)"
   ],
   "id": "ca352fdca0346f91",
   "outputs": [
    {
     "name": "stdout",
     "output_type": "stream",
     "text": [
      "Printing variables:\n",
      "Ahmed 42\n"
     ]
    }
   ],
   "execution_count": 2
  },
  {
   "metadata": {
    "ExecuteTime": {
     "end_time": "2024-09-25T23:09:25.761900Z",
     "start_time": "2024-09-25T23:09:25.758638Z"
    }
   },
   "cell_type": "code",
   "source": [
    "# 3. Formatting output with f-strings\n",
    "print(\"\\nFormatting with f-strings:\")\n",
    "print(f'{name} is {age} years old')"
   ],
   "id": "f157ff313060ba4d",
   "outputs": [
    {
     "name": "stdout",
     "output_type": "stream",
     "text": [
      "\n",
      "Formatting with f-strings:\n",
      "Ahmed is 42 years old\n"
     ]
    }
   ],
   "execution_count": 3
  },
  {
   "metadata": {
    "ExecuteTime": {
     "end_time": "2024-09-25T23:09:31.691885Z",
     "start_time": "2024-09-25T23:09:31.689714Z"
    }
   },
   "cell_type": "code",
   "source": [
    "# 4. Using variables in calculations\n",
    "age = age + 3\n",
    "print(f\"\\nAfter calculation, age is now: {age}\")"
   ],
   "id": "f5a68de2756fcfff",
   "outputs": [
    {
     "name": "stdout",
     "output_type": "stream",
     "text": [
      "\n",
      "After calculation, age is now: 45\n"
     ]
    }
   ],
   "execution_count": 4
  },
  {
   "metadata": {
    "ExecuteTime": {
     "end_time": "2024-09-25T23:09:38.485116Z",
     "start_time": "2024-09-25T23:09:38.482229Z"
    }
   },
   "cell_type": "code",
   "source": [
    "# 5. Checking variable types\n",
    "print(\"\\nVariable types:\")\n",
    "print(f\"Type of age: {type(age)}\")\n",
    "print(f\"Type of name: {type(name)}\")"
   ],
   "id": "97226e51ea09a90",
   "outputs": [
    {
     "name": "stdout",
     "output_type": "stream",
     "text": [
      "\n",
      "Variable types:\n",
      "Type of age: <class 'int'>\n",
      "Type of name: <class 'str'>\n"
     ]
    }
   ],
   "execution_count": 5
  },
  {
   "metadata": {
    "ExecuteTime": {
     "end_time": "2024-09-25T23:09:45.067363Z",
     "start_time": "2024-09-25T23:09:45.063638Z"
    }
   },
   "cell_type": "code",
   "source": [
    "# 6. String indexing and slicing\n",
    "library = 'Alexandria'\n",
    "print(\"\\nString operations:\")\n",
    "print(f\"First letter of {library}: {library[0]}\")\n",
    "print(f\"First three letters of {library}: {library[0:3]}\")"
   ],
   "id": "43c21e96ee0818",
   "outputs": [
    {
     "name": "stdout",
     "output_type": "stream",
     "text": [
      "\n",
      "String operations:\n",
      "First letter of Alexandria: A\n",
      "First three letters of Alexandria: Ale\n"
     ]
    }
   ],
   "execution_count": 6
  },
  {
   "metadata": {
    "ExecuteTime": {
     "end_time": "2024-09-25T23:10:28.399783Z",
     "start_time": "2024-09-25T23:10:28.397081Z"
    }
   },
   "cell_type": "code",
   "source": [
    "# 7. String length\n",
    "print(f\"\\nLength of '{library}': {len(library)}\")"
   ],
   "id": "5ed0ad664e4cbee7",
   "outputs": [
    {
     "name": "stdout",
     "output_type": "stream",
     "text": [
      "\n",
      "Length of 'Alexandria': 10\n"
     ]
    }
   ],
   "execution_count": 7
  },
  {
   "metadata": {
    "ExecuteTime": {
     "end_time": "2024-09-25T23:10:56.115997Z",
     "start_time": "2024-09-25T23:10:56.114289Z"
    }
   },
   "cell_type": "code",
   "source": [
    "# 8. Variable reassignment\n",
    "x = 1.0\n",
    "y = 3.0\n",
    "print(f\"\\nBefore swap: x = {x}, y = {y}\")"
   ],
   "id": "af5251f5d473a4a4",
   "outputs": [
    {
     "name": "stdout",
     "output_type": "stream",
     "text": [
      "\n",
      "Before swap: x = 1.0, y = 3.0\n"
     ]
    }
   ],
   "execution_count": 9
  },
  {
   "metadata": {
    "ExecuteTime": {
     "end_time": "2024-09-25T23:11:00.847897Z",
     "start_time": "2024-09-25T23:11:00.844628Z"
    }
   },
   "cell_type": "code",
   "source": [
    "# Swapping values\n",
    "swap = x\n",
    "x = y\n",
    "y = swap\n",
    "\n",
    "print(f\"After swap: x = {x}, y = {y}\")"
   ],
   "id": "883fde071c20b508",
   "outputs": [
    {
     "name": "stdout",
     "output_type": "stream",
     "text": [
      "After swap: x = 1.0, y = 3.0\n"
     ]
    }
   ],
   "execution_count": 11
  },
  {
   "metadata": {
    "ExecuteTime": {
     "end_time": "2024-09-25T23:11:10.727579Z",
     "start_time": "2024-09-25T23:11:10.724285Z"
    }
   },
   "cell_type": "code",
   "source": [
    "# 9. Variables don't automatically update\n",
    "initial_age = 25\n",
    "older_age = initial_age + 5\n",
    "initial_age = 30\n",
    "print(f\"\\nolder_age: {older_age}, initial_age: {initial_age}\")\n",
    "\n",
    "# Try modifying and running different parts of this code to see how variables work!"
   ],
   "id": "55587a0a5ad4e6fe",
   "outputs": [
    {
     "name": "stdout",
     "output_type": "stream",
     "text": [
      "\n",
      "older_age: 30, initial_age: 30\n"
     ]
    }
   ],
   "execution_count": 13
  }
 ],
 "metadata": {
  "kernelspec": {
   "display_name": "Python 3",
   "language": "python",
   "name": "python3"
  },
  "language_info": {
   "codemirror_mode": {
    "name": "ipython",
    "version": 2
   },
   "file_extension": ".py",
   "mimetype": "text/x-python",
   "name": "python",
   "nbconvert_exporter": "python",
   "pygments_lexer": "ipython2",
   "version": "2.7.6"
  }
 },
 "nbformat": 4,
 "nbformat_minor": 5
}
