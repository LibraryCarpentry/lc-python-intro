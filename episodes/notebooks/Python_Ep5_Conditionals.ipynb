{
 "cells": [
  {
   "metadata": {},
   "cell_type": "markdown",
   "source": "# Conditionals Tutorial in Python",
   "id": "7ec5adc9c143e37f"
  },
  {
   "metadata": {
    "ExecuteTime": {
     "end_time": "2024-09-25T23:55:37.896509Z",
     "start_time": "2024-09-25T23:55:37.893951Z"
    }
   },
   "cell_type": "code",
   "source": [
    "\n",
    "# 1. Using `if` statements to control code execution\n",
    "checkouts = 11\n",
    "if checkouts > 10.0:\n",
    "    print(f'{checkouts} is over the limit.')\n",
    "\n",
    "checkouts = 8\n",
    "if checkouts > 10.0:\n",
    "    print(f'{checkouts} is over the limit.')\n"
   ],
   "id": "8e0368966d174932",
   "outputs": [
    {
     "name": "stdout",
     "output_type": "stream",
     "text": [
      "11 is over the limit.\n"
     ]
    }
   ],
   "execution_count": 15
  },
  {
   "metadata": {
    "ExecuteTime": {
     "end_time": "2024-09-25T23:55:38.096356Z",
     "start_time": "2024-09-25T23:55:38.093711Z"
    }
   },
   "cell_type": "code",
   "source": [
    "# 2. Conditionals inside loops\n",
    "print(\"\\nChecking each value in the list:\")\n",
    "checkouts = [0, 3, 10, 12, 22]\n",
    "for checkout in checkouts:\n",
    "    if checkout > 10.0:\n",
    "        print(f'{checkout} is over the limit.')\n"
   ],
   "id": "7e889726126acc4e",
   "outputs": [
    {
     "name": "stdout",
     "output_type": "stream",
     "text": [
      "\n",
      "Checking each value in the list:\n",
      "12 is over the limit.\n",
      "22 is over the limit.\n"
     ]
    }
   ],
   "execution_count": 16
  },
  {
   "metadata": {
    "ExecuteTime": {
     "end_time": "2024-09-25T23:55:38.323093Z",
     "start_time": "2024-09-25T23:55:38.320981Z"
    }
   },
   "cell_type": "code",
   "source": [
    "# 3. Using `else` for alternative cases\n",
    "print(\"\\nChecking each value with else:\")\n",
    "for checkout in checkouts:\n",
    "    if checkout > 10.0:\n",
    "        print(f'{checkout} is over the limit.')\n",
    "    else:\n",
    "        print(f'{checkout} is under the limit.')\n"
   ],
   "id": "c9a23d5d99340bbe",
   "outputs": [
    {
     "name": "stdout",
     "output_type": "stream",
     "text": [
      "\n",
      "Checking each value with else:\n",
      "0 is under the limit.\n",
      "3 is under the limit.\n",
      "10 is under the limit.\n",
      "12 is over the limit.\n",
      "22 is over the limit.\n"
     ]
    }
   ],
   "execution_count": 17
  },
  {
   "metadata": {
    "ExecuteTime": {
     "end_time": "2024-09-25T23:55:38.572552Z",
     "start_time": "2024-09-25T23:55:38.569918Z"
    }
   },
   "cell_type": "code",
   "source": [
    "# 4. Using `elif` for multiple conditions\n",
    "print(\"\\nChecking with `elif` for exact matches:\")\n",
    "for checkout in checkouts:\n",
    "    if checkout > 10.0:\n",
    "        print(f'*Warning*: {checkout} is over the limit.')\n",
    "    elif checkout == 10:\n",
    "        print(f'{checkout} is at the exact limit.')\n",
    "    else:\n",
    "        print(f'{checkout} is under the limit.')\n"
   ],
   "id": "57b2f9a2b3aeb65c",
   "outputs": [
    {
     "name": "stdout",
     "output_type": "stream",
     "text": [
      "\n",
      "Checking with `elif` for exact matches:\n",
      "0 is under the limit.\n",
      "3 is under the limit.\n",
      "10 is at the exact limit.\n",
      "*Warning*: 12 is over the limit.\n",
      "*Warning*: 22 is over the limit.\n"
     ]
    }
   ],
   "execution_count": 18
  },
  {
   "metadata": {
    "ExecuteTime": {
     "end_time": "2024-09-25T23:55:38.758168Z",
     "start_time": "2024-09-25T23:55:38.755970Z"
    }
   },
   "cell_type": "code",
   "source": [
    "# 5. Order matters in conditionals\n",
    "grade = 85\n",
    "print(\"\\nChecking grades with conditionals:\")\n",
    "if grade >= 70:\n",
    "    print('Grade is C')\n",
    "elif grade >= 80:\n",
    "    print('Grade is B')\n",
    "elif grade >= 90:\n",
    "    print('Grade is A')\n"
   ],
   "id": "41c68b274558d5ec",
   "outputs": [
    {
     "name": "stdout",
     "output_type": "stream",
     "text": [
      "\n",
      "Checking grades with conditionals:\n",
      "Grade is C\n"
     ]
    }
   ],
   "execution_count": 19
  },
  {
   "metadata": {
    "ExecuteTime": {
     "end_time": "2024-09-25T23:55:38.954161Z",
     "start_time": "2024-09-25T23:55:38.951298Z"
    }
   },
   "cell_type": "code",
   "source": [
    "# 6. Compound conditionals using `and` and `or`\n",
    "print(\"\\nChecking compound conditionals with and/or:\")\n",
    "checkouts = [3, 50, 120]\n",
    "users = ['fac', 'grad']\n",
    "\n",
    "for user in users:\n",
    "    for checkout in checkouts:\n",
    "        # Faculty checkout limit is 100\n",
    "        if checkout >= 100 and user == 'fac':\n",
    "            print(f\"*Warning*: {checkout} is over the {user} limit.\")\n",
    "        # Grad limit is 50\n",
    "        elif checkout >= 50 and user == 'grad':\n",
    "            print(f\"{checkout} is over the {user} limit.\")\n",
    "        else:\n",
    "            print(f\"{checkout} is under the {user} limit.\")\n",
    "    print()  # Print an empty line between users\n"
   ],
   "id": "dc1e15495924050d",
   "outputs": [
    {
     "name": "stdout",
     "output_type": "stream",
     "text": [
      "\n",
      "Checking compound conditionals with and/or:\n",
      "3 is under the fac limit.\n",
      "50 is under the fac limit.\n",
      "*Warning*: 120 is over the fac limit.\n",
      "\n",
      "3 is under the grad limit.\n",
      "50 is over the grad limit.\n",
      "120 is over the grad limit.\n",
      "\n"
     ]
    }
   ],
   "execution_count": 20
  },
  {
   "metadata": {
    "ExecuteTime": {
     "end_time": "2024-09-25T23:55:39.210769Z",
     "start_time": "2024-09-25T23:55:39.207185Z"
    }
   },
   "cell_type": "code",
   "source": [
    "# Challenge: Conditional logic - fill in the blanks\n",
    "print(\"\\nConditional logic challenge:\")\n",
    "names = ['Wang', 'Garcia', 'Martin']\n",
    "name = 'Martin'\n",
    "password = 'true'\n",
    "\n",
    "for item in names:\n",
    "    print(item)\n",
    "    if name == item and password == 'true':\n",
    "        print('Login successful!')\n",
    "    elif password != 'true':\n",
    "        print(f'Your password is incorrect. Try again.')\n",
    "    elif name != item:\n",
    "        print(f'- Name does not match. Testing the next item in the list for {name}...')\n"
   ],
   "id": "4741e1ae87691eff",
   "outputs": [
    {
     "name": "stdout",
     "output_type": "stream",
     "text": [
      "\n",
      "Conditional logic challenge:\n",
      "Wang\n",
      "- Name does not match. Testing the next item in the list for Martin...\n",
      "Garcia\n",
      "- Name does not match. Testing the next item in the list for Martin...\n",
      "Martin\n",
      "Login successful!\n"
     ]
    }
   ],
   "execution_count": 21
  },
  {
   "metadata": {
    "ExecuteTime": {
     "end_time": "2024-09-25T23:55:39.471051Z",
     "start_time": "2024-09-25T23:55:39.468484Z"
    }
   },
   "cell_type": "code",
   "source": [
    "# Challenge: Processing files based on record length\n",
    "# Simulated example with a file having fewer than 85 records\n",
    "print(\"\\nFile processing based on record length:\")\n",
    "import pandas as pd\n",
    "\n",
    "# Simulate files with pandas DataFrame for illustration\n",
    "data = pd.DataFrame({'values': range(80)})  # Create a file with 80 records\n",
    "if len(data) < 85:\n",
    "    print(f'This file has {len(data)} records, it will be processed.')"
   ],
   "id": "f52fade57fc27f69",
   "outputs": [
    {
     "name": "stdout",
     "output_type": "stream",
     "text": [
      "\n",
      "File processing based on record length:\n",
      "This file has 80 records, it will be processed.\n"
     ]
    }
   ],
   "execution_count": 22
  },
  {
   "metadata": {
    "ExecuteTime": {
     "end_time": "2024-09-25T23:55:39.755833Z",
     "start_time": "2024-09-25T23:55:39.752623Z"
    }
   },
   "cell_type": "code",
   "source": [
    "# Bonus Challenge: Age conditionals\n",
    "print(\"\\nBonus Challenge: Checking library card eligibility:\")\n",
    "age = 25\n",
    "if age >= 16:\n",
    "    print('You are eligible for an adult library card.')\n",
    "else:\n",
    "    print('You are eligible for a youth library card.')\n",
    "\n",
    "# Challenge: Looping through a list of ages\n",
    "ages = [10, 16, 30, 65]\n",
    "for age in ages:\n",
    "    if age >= 16:\n",
    "        print(f'Age {age}: You are eligible for an adult library card.')\n",
    "    else:\n",
    "        print(f'Age {age}: You are eligible for a youth library card.')"
   ],
   "id": "972c2502f1470154",
   "outputs": [
    {
     "name": "stdout",
     "output_type": "stream",
     "text": [
      "\n",
      "Bonus Challenge: Checking library card eligibility:\n",
      "You are eligible for an adult library card.\n",
      "Age 10: You are eligible for a youth library card.\n",
      "Age 16: You are eligible for an adult library card.\n",
      "Age 30: You are eligible for an adult library card.\n",
      "Age 65: You are eligible for an adult library card.\n"
     ]
    }
   ],
   "execution_count": 23
  },
  {
   "metadata": {
    "ExecuteTime": {
     "end_time": "2024-09-25T23:55:40.015660Z",
     "start_time": "2024-09-25T23:55:40.013765Z"
    }
   },
   "cell_type": "code",
   "source": "",
   "id": "3f0b927997919dfb",
   "outputs": [],
   "execution_count": null
  },
  {
   "metadata": {},
   "cell_type": "code",
   "outputs": [],
   "execution_count": null,
   "source": "",
   "id": "291dbbc2aa24a958"
  }
 ],
 "metadata": {
  "kernelspec": {
   "display_name": "Python 3",
   "language": "python",
   "name": "python3"
  },
  "language_info": {
   "codemirror_mode": {
    "name": "ipython",
    "version": 2
   },
   "file_extension": ".py",
   "mimetype": "text/x-python",
   "name": "python",
   "nbconvert_exporter": "python",
   "pygments_lexer": "ipython2",
   "version": "2.7.6"
  }
 },
 "nbformat": 4,
 "nbformat_minor": 5
}
