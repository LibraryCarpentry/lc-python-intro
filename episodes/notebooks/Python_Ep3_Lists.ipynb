{
 "cells": [
  {
   "metadata": {},
   "cell_type": "markdown",
   "source": "# Lists Tutorial in Python",
   "id": "650b86152b5450bd"
  },
  {
   "metadata": {
    "ExecuteTime": {
     "end_time": "2024-09-25T23:26:13.848463Z",
     "start_time": "2024-09-25T23:26:13.845851Z"
    }
   },
   "cell_type": "code",
   "source": [
    "# 1. Creating a list of amino acids\n",
    "amino_acids = ['alanine', 'leucine', 'cysteine', 'isoleucine']\n",
    "print(amino_acids)"
   ],
   "id": "79e11f0c0021bafa",
   "outputs": [
    {
     "name": "stdout",
     "output_type": "stream",
     "text": [
      "['alanine', 'leucine', 'cysteine', 'isoleucine']\n"
     ]
    }
   ],
   "execution_count": 1
  },
  {
   "metadata": {
    "ExecuteTime": {
     "end_time": "2024-09-25T23:26:20.410300Z",
     "start_time": "2024-09-25T23:26:20.408142Z"
    }
   },
   "cell_type": "code",
   "source": [
    "# 2. Finding the length of a list\n",
    "print(f\"\\nLength of the list: {len(amino_acids)}\")"
   ],
   "id": "97237b8b21e804c4",
   "outputs": [
    {
     "name": "stdout",
     "output_type": "stream",
     "text": [
      "\n",
      "Length of the list: 4\n"
     ]
    }
   ],
   "execution_count": 2
  },
  {
   "metadata": {
    "ExecuteTime": {
     "end_time": "2024-09-25T23:26:25.889516Z",
     "start_time": "2024-09-25T23:26:25.885370Z"
    }
   },
   "cell_type": "code",
   "source": [
    "# 3. Using an item's index to fetch it from a list\n",
    "print(f\"\\nFirst item: {amino_acids[0]}\")\n",
    "print(f\"The first three items: {amino_acids[0:3]}\")"
   ],
   "id": "2b72e050ed302b88",
   "outputs": [
    {
     "name": "stdout",
     "output_type": "stream",
     "text": [
      "\n",
      "First item: alanine\n",
      "The first three items: ['alanine', 'leucine', 'cysteine']\n"
     ]
    }
   ],
   "execution_count": 3
  },
  {
   "metadata": {
    "ExecuteTime": {
     "end_time": "2024-09-25T23:26:31.414482Z",
     "start_time": "2024-09-25T23:26:31.411211Z"
    }
   },
   "cell_type": "code",
   "source": [
    "# 4. Reassigning list values with their index\n",
    "print(f\"\\nList was: {amino_acids}\")\n",
    "amino_acids[0] = 'methionine'\n",
    "print(f\"List is now: {amino_acids}\")"
   ],
   "id": "8a362f3676adf418",
   "outputs": [
    {
     "name": "stdout",
     "output_type": "stream",
     "text": [
      "\n",
      "List was: ['alanine', 'leucine', 'cysteine', 'isoleucine']\n",
      "List is now: ['methionine', 'leucine', 'cysteine', 'isoleucine']\n"
     ]
    }
   ],
   "execution_count": 4
  },
  {
   "metadata": {
    "ExecuteTime": {
     "end_time": "2024-09-25T23:26:39.625318Z",
     "start_time": "2024-09-25T23:26:39.622981Z"
    }
   },
   "cell_type": "code",
   "source": [
    "# 5. Strings are immutable\n",
    "ile = 'Osoleucine' # Typo here\n",
    "try:\n",
    "    ile[0] = 'I'\n",
    "except TypeError as e:\n",
    "    print(f\"\\nError: {e}\")"
   ],
   "id": "260445e9ca3aeca",
   "outputs": [
    {
     "name": "stdout",
     "output_type": "stream",
     "text": [
      "\n",
      "Error: 'str' object does not support item assignment\n"
     ]
    }
   ],
   "execution_count": 5
  },
  {
   "metadata": {
    "ExecuteTime": {
     "end_time": "2024-09-25T23:26:47.892461Z",
     "start_time": "2024-09-25T23:26:47.888022Z"
    }
   },
   "cell_type": "code",
   "source": [
    "# 6. Appending items to a list\n",
    "print(f\"\\nList was: {amino_acids}\")\n",
    "amino_acids.append('glutamine')\n",
    "print(f\"List is now: {amino_acids}\")"
   ],
   "id": "9fb2a5af753d744e",
   "outputs": [
    {
     "name": "stdout",
     "output_type": "stream",
     "text": [
      "\n",
      "List was: ['methionine', 'leucine', 'cysteine', 'isoleucine']\n",
      "List is now: ['methionine', 'leucine', 'cysteine', 'isoleucine', 'glutamine']\n"
     ]
    }
   ],
   "execution_count": 6
  },
  {
   "metadata": {
    "ExecuteTime": {
     "end_time": "2024-09-25T23:27:12.068519Z",
     "start_time": "2024-09-25T23:27:12.065787Z"
    }
   },
   "cell_type": "code",
   "source": [
    "# 7. Lists can contain values of different types\n",
    "mixed_list = ['hello world', 3.2, [10, 20, 30]]\n",
    "print(f\"\\nFirst item in sublist: {mixed_list[2][0]}\")\n"
   ],
   "id": "fcca2231e785e086",
   "outputs": [
    {
     "name": "stdout",
     "output_type": "stream",
     "text": [
      "\n",
      "First item in sublist: 10\n"
     ]
    }
   ],
   "execution_count": 8
  },
  {
   "metadata": {
    "ExecuteTime": {
     "end_time": "2024-09-25T23:29:01.344565Z",
     "start_time": "2024-09-25T23:29:01.341568Z"
    }
   },
   "cell_type": "code",
   "source": [
    "# 8. Lists containing lists\n",
    "pizza_toppings = ['pepperoni', 'mushroom', 'pineapple']\n",
    "print(f\"\\nPizza toppings: {pizza_toppings}\")\n",
    "\n",
    "# Adding a new sublist to pizza toppings\n",
    "buffalo_chicken = ['chicken', 'buffalo sauce', 'blue cheese']\n",
    "pizza_toppings.append(buffalo_chicken)\n",
    "print(f\"Updated pizza toppings: {pizza_toppings}\")\n",
    "\n",
    "# Accessing elements in the sublist\n",
    "print(f\"Third topping in Buffalo chicken pizza: {pizza_toppings[3][2]}\")\n"
   ],
   "id": "ddd0dfd15ec1cbcc",
   "outputs": [
    {
     "name": "stdout",
     "output_type": "stream",
     "text": [
      "\n",
      "Pizza toppings: ['pepperoni', 'mushroom', 'pineapple']\n",
      "Updated pizza toppings: ['pepperoni', 'mushroom', 'pineapple', ['chicken', 'buffalo sauce', 'blue cheese']]\n",
      "Third topping in Buffalo chicken pizza: blue cheese\n"
     ]
    }
   ],
   "execution_count": 12
  },
  {
   "metadata": {
    "ExecuteTime": {
     "end_time": "2024-09-25T23:34:36.165726Z",
     "start_time": "2024-09-25T23:34:36.162948Z"
    }
   },
   "cell_type": "code",
   "source": [
    "# 9. Removing items from a list\n",
    "primes = [2, 3, 5, 7, 11]\n",
    "print(f\"\\nPrimes before: {primes}\")\n",
    "del primes[4]\n",
    "print(f\"Primes after: {primes}\")\n"
   ],
   "id": "1215b103fef940",
   "outputs": [
    {
     "name": "stdout",
     "output_type": "stream",
     "text": [
      "\n",
      "Primes before: [2, 3, 5, 7, 11]\n",
      "Primes after: [2, 3, 5, 7]\n"
     ]
    }
   ],
   "execution_count": 13
  },
  {
   "metadata": {
    "ExecuteTime": {
     "end_time": "2024-09-25T23:34:55.757349Z",
     "start_time": "2024-09-25T23:34:55.752782Z"
    }
   },
   "cell_type": "code",
   "source": [
    "# Challenge: Lists - Length and Indexing\n",
    "colors = ['red', 'blue', 'green']\n",
    "print(f\"\\nColors list length: {len(colors)}\")\n",
    "print(f\"First color: {colors[0]}\")\n"
   ],
   "id": "64508bc3caefd609",
   "outputs": [
    {
     "name": "stdout",
     "output_type": "stream",
     "text": [
      "\n",
      "Colors list length: 3\n",
      "First color: red\n"
     ]
    }
   ],
   "execution_count": 14
  },
  {
   "metadata": {
    "ExecuteTime": {
     "end_time": "2024-09-25T23:35:10.253285Z",
     "start_time": "2024-09-25T23:35:10.250149Z"
    }
   },
   "cell_type": "code",
   "source": [
    "# Challenge: List slicing\n",
    "numbers = [1, 2, 3, 4, 5, 6]\n",
    "print(f\"\\nFirst three items: {numbers[:3]}\")\n",
    "print(f\"Last three items: {numbers[3:]}\")"
   ],
   "id": "8bb26678d6ba6e87",
   "outputs": [
    {
     "name": "stdout",
     "output_type": "stream",
     "text": [
      "\n",
      "First three items: [1, 2, 3]\n",
      "Last three items: [4, 5, 6]\n"
     ]
    }
   ],
   "execution_count": 15
  },
  {
   "metadata": {
    "ExecuteTime": {
     "end_time": "2024-09-25T23:35:30.842528Z",
     "start_time": "2024-09-25T23:35:30.839451Z"
    }
   },
   "cell_type": "code",
   "source": [
    "# Bonus Challenge: More Pizza\n",
    "veggie = ['green pepper', 'onion', 'mushroom', 'broccoli', 'olive']\n",
    "\n",
    "pizza_toppings.append(veggie)\n",
    "\n",
    "print(f\"\\nUpdated pizza toppings with veggie: {pizza_toppings}\")\n",
    "\n",
    "print(f\"Second item in veggie pizza: {pizza_toppings[4][1]}\")"
   ],
   "id": "fc8175fa6f2066f0",
   "outputs": [
    {
     "name": "stdout",
     "output_type": "stream",
     "text": [
      "\n",
      "Updated pizza toppings with veggie: ['pepperoni', 'mushroom', 'pineapple', ['chicken', 'buffalo sauce', 'blue cheese'], ['green pepper', 'onion', 'mushroom', 'broccoli', 'olive']]\n",
      "Second item in veggie pizza: onion\n"
     ]
    }
   ],
   "execution_count": 16
  },
  {
   "metadata": {
    "ExecuteTime": {
     "end_time": "2024-09-25T23:35:49.540510Z",
     "start_time": "2024-09-25T23:35:49.538595Z"
    }
   },
   "cell_type": "code",
   "source": [
    "# Bonus Challenge: Fill in the Blanks\n",
    "values = []\n",
    "values.append(1)\n",
    "values.append(3)\n",
    "values.append(5)\n",
    "print(f\"\\nFirst time: {values}\")\n",
    "values = values[1:3]\n",
    "print(f\"Second time: {values}\")"
   ],
   "id": "7731b61a13f9fd50",
   "outputs": [
    {
     "name": "stdout",
     "output_type": "stream",
     "text": [
      "\n",
      "First time: [1, 3, 5]\n",
      "Second time: [3, 5]\n"
     ]
    }
   ],
   "execution_count": 17
  },
  {
   "metadata": {
    "ExecuteTime": {
     "end_time": "2024-09-25T23:36:06.327180Z",
     "start_time": "2024-09-25T23:36:06.324851Z"
    }
   },
   "cell_type": "code",
   "source": [
    "# Bonus Challenge: Working with the End\n",
    "resources = ['books','DVDs','maps','databases']\n",
    "print(f\"\\nLast resource: {resources[-1]}\")"
   ],
   "id": "ba58b01f146ad81b",
   "outputs": [
    {
     "name": "stdout",
     "output_type": "stream",
     "text": [
      "\n",
      "Last resource: databases\n"
     ]
    }
   ],
   "execution_count": 18
  }
 ],
 "metadata": {
  "kernelspec": {
   "display_name": "Python 3",
   "language": "python",
   "name": "python3"
  },
  "language_info": {
   "codemirror_mode": {
    "name": "ipython",
    "version": 2
   },
   "file_extension": ".py",
   "mimetype": "text/x-python",
   "name": "python",
   "nbconvert_exporter": "python",
   "pygments_lexer": "ipython2",
   "version": "2.7.6"
  }
 },
 "nbformat": 4,
 "nbformat_minor": 5
}
