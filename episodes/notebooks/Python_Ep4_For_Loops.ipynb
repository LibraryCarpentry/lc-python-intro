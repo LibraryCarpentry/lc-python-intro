{
 "cells": [
  {
   "metadata": {},
   "cell_type": "markdown",
   "source": "# For Loops Tutorial in Python",
   "id": "994f66026d16e5e4"
  },
  {
   "metadata": {
    "ExecuteTime": {
     "end_time": "2024-09-25T23:39:53.630340Z",
     "start_time": "2024-09-25T23:39:53.628032Z"
    }
   },
   "cell_type": "code",
   "source": [
    "# 1. Creating a list of odd numbers\n",
    "odds = [1, 3, 5, 7]\n",
    "print(odds)"
   ],
   "id": "31e94d0ca30c70ad",
   "outputs": [
    {
     "name": "stdout",
     "output_type": "stream",
     "text": [
      "[1, 3, 5, 7]\n"
     ]
    }
   ],
   "execution_count": 1
  },
  {
   "metadata": {
    "ExecuteTime": {
     "end_time": "2024-09-25T23:39:59.857488Z",
     "start_time": "2024-09-25T23:39:59.853603Z"
    }
   },
   "cell_type": "code",
   "source": [
    "# 2. Printing each value in the list using a manual approach (not recommended)\n",
    "print(f\"\\nManual printing: {odds[0]} {odds[1]} {odds[2]} {odds[3]}\")\n",
    "\n",
    "# This manual approach is not scalable and fragile. Let's use a `for` loop instead."
   ],
   "id": "332af94da9d33f0e",
   "outputs": [
    {
     "name": "stdout",
     "output_type": "stream",
     "text": [
      "\n",
      "Manual printing: 1 3 5 7\n"
     ]
    }
   ],
   "execution_count": 2
  },
  {
   "metadata": {
    "ExecuteTime": {
     "end_time": "2024-09-25T23:40:40.887195Z",
     "start_time": "2024-09-25T23:40:40.884965Z"
    }
   },
   "cell_type": "code",
   "source": [
    "# 3. Using a `for` loop to iterate through the list\n",
    "print(\"\\nUsing a for loop:\")\n",
    "for num in odds:\n",
    "    print(num)"
   ],
   "id": "c3e99f8ffd30929f",
   "outputs": [
    {
     "name": "stdout",
     "output_type": "stream",
     "text": [
      "\n",
      "Using a for loop:\n",
      "1\n",
      "3\n",
      "5\n",
      "7\n"
     ]
    }
   ],
   "execution_count": 4
  },
  {
   "metadata": {
    "ExecuteTime": {
     "end_time": "2024-09-25T23:40:48.898142Z",
     "start_time": "2024-09-25T23:40:48.893239Z"
    }
   },
   "cell_type": "code",
   "source": [
    "# 3. Using a `for` loop to iterate through the list\n",
    "print(\"\\nUsing a for loop:\")\n",
    "for num in odds:\n",
    "    print(num)\n"
   ],
   "id": "f5cc3091a2b2670a",
   "outputs": [
    {
     "name": "stdout",
     "output_type": "stream",
     "text": [
      "\n",
      "Using a for loop:\n",
      "1\n",
      "3\n",
      "5\n",
      "7\n"
     ]
    }
   ],
   "execution_count": 5
  },
  {
   "metadata": {
    "ExecuteTime": {
     "end_time": "2024-09-25T23:40:53.582430Z",
     "start_time": "2024-09-25T23:40:53.578034Z"
    }
   },
   "cell_type": "code",
   "source": [
    "# 4. Adding more values to the list and looping through the updated list\n",
    "odds.append(9)\n",
    "odds.append(11)\n",
    "print(f\"\\nUpdated list: {odds}\")\n",
    "for num in odds:\n",
    "    print(num)"
   ],
   "id": "1cf23eebc9f5e01e",
   "outputs": [
    {
     "name": "stdout",
     "output_type": "stream",
     "text": [
      "\n",
      "Updated list: [1, 3, 5, 7, 9, 11]\n",
      "1\n",
      "3\n",
      "5\n",
      "7\n",
      "9\n",
      "11\n"
     ]
    }
   ],
   "execution_count": 6
  },
  {
   "metadata": {
    "ExecuteTime": {
     "end_time": "2024-09-25T23:40:58.471220Z",
     "start_time": "2024-09-25T23:40:58.469265Z"
    }
   },
   "cell_type": "code",
   "source": [
    "# 5. Looping through a string (you can loop through other objects like strings too)\n",
    "print(\"\\nLooping through a string:\")\n",
    "for letter in 'library of babel':\n",
    "    print(letter)"
   ],
   "id": "3802cd7f87fb3fb4",
   "outputs": [
    {
     "name": "stdout",
     "output_type": "stream",
     "text": [
      "\n",
      "Looping through a string:\n",
      "l\n",
      "i\n",
      "b\n",
      "r\n",
      "a\n",
      "r\n",
      "y\n",
      " \n",
      "o\n",
      "f\n",
      " \n",
      "b\n",
      "a\n",
      "b\n",
      "e\n",
      "l\n"
     ]
    }
   ],
   "execution_count": 7
  },
  {
   "metadata": {
    "ExecuteTime": {
     "end_time": "2024-09-25T23:41:04.516250Z",
     "start_time": "2024-09-25T23:41:04.513883Z"
    }
   },
   "cell_type": "code",
   "source": [
    "# 6. Using `range()` to iterate over a sequence of numbers\n",
    "print(\"\\nUsing range() to iterate from 0 to 2:\")\n",
    "for number in range(0, 3):\n",
    "    print(number)"
   ],
   "id": "695067d36262bba3",
   "outputs": [
    {
     "name": "stdout",
     "output_type": "stream",
     "text": [
      "\n",
      "Using range() to iterate from 0 to 2:\n",
      "0\n",
      "1\n",
      "2\n"
     ]
    }
   ],
   "execution_count": 8
  },
  {
   "metadata": {
    "ExecuteTime": {
     "end_time": "2024-09-25T23:41:18.458174Z",
     "start_time": "2024-09-25T23:41:18.455346Z"
    }
   },
   "cell_type": "code",
   "source": [
    "# 7. Accumulator pattern to sum the first 10 integers\n",
    "total = 0\n",
    "for num in range(1, 11):\n",
    "    print(f'num is: {num}, total is: {total}')\n",
    "    total += num\n",
    "    \n",
    "print(f'\\nLoop finished. Final total is: {total}')"
   ],
   "id": "f4f187b9c1846ccd",
   "outputs": [
    {
     "name": "stdout",
     "output_type": "stream",
     "text": [
      "num is: 1, total is: 0\n",
      "num is: 2, total is: 1\n",
      "num is: 3, total is: 3\n",
      "num is: 4, total is: 6\n",
      "num is: 5, total is: 10\n",
      "num is: 6, total is: 15\n",
      "num is: 7, total is: 21\n",
      "num is: 8, total is: 28\n",
      "num is: 9, total is: 36\n",
      "num is: 10, total is: 45\n",
      "\n",
      "Loop finished. Final total is: 55\n"
     ]
    }
   ],
   "execution_count": 10
  },
  {
   "metadata": {
    "ExecuteTime": {
     "end_time": "2024-09-25T23:41:27.156997Z",
     "start_time": "2024-09-25T23:41:27.152914Z"
    }
   },
   "cell_type": "code",
   "source": [
    "# Challenge: Loop through a list of vegetables and print them\n",
    "print(\"\\nChallenge: Loop through a list of vegetables:\")\n",
    "vegetables = ['lettuce', 'carrots', 'celery']\n",
    "for veg in vegetables:\n",
    "    print(veg)"
   ],
   "id": "fdfd54461d0f338c",
   "outputs": [
    {
     "name": "stdout",
     "output_type": "stream",
     "text": [
      "\n",
      "Challenge: Loop through a list of vegetables:\n",
      "lettuce\n",
      "carrots\n",
      "celery\n"
     ]
    }
   ],
   "execution_count": 11
  },
  {
   "metadata": {
    "ExecuteTime": {
     "end_time": "2024-09-25T23:41:33.804995Z",
     "start_time": "2024-09-25T23:41:33.802244Z"
    }
   },
   "cell_type": "code",
   "source": [
    "# Bonus: Loop through a list with index values\n",
    "print(\"\\nChallenge: Print vegetables with index values:\")\n",
    "idx = 0\n",
    "for veg in vegetables:\n",
    "    print(f'{idx}: {veg}')\n",
    "    idx += 1"
   ],
   "id": "61da4d45cd93b7f2",
   "outputs": [
    {
     "name": "stdout",
     "output_type": "stream",
     "text": [
      "\n",
      "Challenge: Print vegetables with index values:\n",
      "0: lettuce\n",
      "1: carrots\n",
      "2: celery\n"
     ]
    }
   ],
   "execution_count": 12
  },
  {
   "metadata": {
    "ExecuteTime": {
     "end_time": "2024-09-25T23:41:41.157575Z",
     "start_time": "2024-09-25T23:41:41.155269Z"
    }
   },
   "cell_type": "code",
   "source": [
    "# Using `range()` to print numbers from 10 to 15\n",
    "print(\"\\nUsing range() to print numbers from 10 to 15:\")\n",
    "for num in range(10, 16):\n",
    "    print(num)"
   ],
   "id": "e8612bb08212ba8e",
   "outputs": [
    {
     "name": "stdout",
     "output_type": "stream",
     "text": [
      "\n",
      "Using range() to print numbers from 10 to 15:\n",
      "10\n",
      "11\n",
      "12\n",
      "13\n",
      "14\n",
      "15\n"
     ]
    }
   ],
   "execution_count": 13
  },
  {
   "metadata": {
    "ExecuteTime": {
     "end_time": "2024-09-25T23:41:51.488165Z",
     "start_time": "2024-09-25T23:41:51.485467Z"
    }
   },
   "cell_type": "code",
   "source": [
    "# Bonus Challenge: Create an acronym from the first letters of 'red', 'green', 'blue'\n",
    "print(\"\\nBonus Challenge: Create acronym from colors:\")\n",
    "acronym = ''\n",
    "for color in ['red', 'green', 'blue']:\n",
    "    acronym += color[0]\n",
    "print(f\"Acronym: {acronym}\")\n"
   ],
   "id": "5391f29905581131",
   "outputs": [
    {
     "name": "stdout",
     "output_type": "stream",
     "text": [
      "\n",
      "Bonus Challenge: Create acronym from colors:\n",
      "Acronym: rgb\n"
     ]
    }
   ],
   "execution_count": 14
  },
  {
   "metadata": {
    "ExecuteTime": {
     "end_time": "2024-09-25T23:42:03.132077Z",
     "start_time": "2024-09-25T23:42:03.129407Z"
    }
   },
   "cell_type": "code",
   "source": [
    "# Bonus Challenge: Subtracting a list of values from an accumulator\n",
    "print(\"\\nBonus Challenge: Subtracting from an accumulator:\")\n",
    "total = 100\n",
    "numbers = [10, 15, 20, 25, 30]\n",
    "for num in numbers:\n",
    "    total -= num\n",
    "    print(f\"Total after subtracting {num}: {total}\")"
   ],
   "id": "fba463ade88731f5",
   "outputs": [
    {
     "name": "stdout",
     "output_type": "stream",
     "text": [
      "\n",
      "Bonus Challenge: Subtracting from an accumulator:\n",
      "Total after subtracting 10: 90\n",
      "Total after subtracting 15: 75\n",
      "Total after subtracting 20: 55\n",
      "Total after subtracting 25: 30\n",
      "Total after subtracting 30: 0\n"
     ]
    }
   ],
   "execution_count": 15
  }
 ],
 "metadata": {
  "kernelspec": {
   "display_name": "Python 3",
   "language": "python",
   "name": "python3"
  },
  "language_info": {
   "codemirror_mode": {
    "name": "ipython",
    "version": 2
   },
   "file_extension": ".py",
   "mimetype": "text/x-python",
   "name": "python",
   "nbconvert_exporter": "python",
   "pygments_lexer": "ipython2",
   "version": "2.7.6"
  }
 },
 "nbformat": 4,
 "nbformat_minor": 5
}
