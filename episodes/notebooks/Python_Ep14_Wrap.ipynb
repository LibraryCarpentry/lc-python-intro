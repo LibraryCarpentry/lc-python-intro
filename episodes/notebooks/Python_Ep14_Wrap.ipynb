{
 "cells": [
  {
   "metadata": {},
   "cell_type": "markdown",
   "source": "# Wrap Up ",
   "id": "192d69ac8546253e"
  },
  {
   "metadata": {},
   "cell_type": "markdown",
   "source": [
    "## Objectives\n",
    "\n",
    "- Name and locate scientific Python community sites for further learning.\n",
    "- Use Python community coding standards (PEP-8).\n",
    "- Reflect on what you learned."
   ],
   "id": "1410053e0ca8f974"
  },
  {
   "metadata": {},
   "cell_type": "markdown",
   "source": [
    "## Questions\n",
    "\n",
    "- What have we learned?\n",
    "- What else is out there and where do I find it?\n",
    "- How can I make my programs more readable?\n",
    "\n"
   ],
   "id": "ae0429abf09512d5"
  },
  {
   "metadata": {},
   "cell_type": "markdown",
   "source": [
    "\n",
    "## Python Resources\n",
    "\n",
    "There are tons of Python resources out there, and Google is generally a good place to start when it comes to troubleshooting Python errors or finding tutorials. A few resources that we recommend:\n",
    "\n",
    "- [PEP8](https://www.python.org/dev/peps/pep-0008) is a style guide for Python that discusses topics such as how you should name variables, how you should use indentation in your code, how you should structure your `import` statements, etc. Following PEP8 guidelines makes it easier for other Python developers (and for your future self) to read and understand your code.\n",
    "- The [Python 3 documentation](https://docs.python.org/3/) covers the core language and the standard library.\n",
    "- [Pandas](https://pandas.pydata.org/) is the home of the Pandas data library.\n",
    "- [Stack Overflow](https://stackoverflow.com/) is a helpful site collecting community questions and answers related to programming challenges. Most of the issues you're likely to run into as a Python novice have probably been answered there.\n",
    "\n"
   ],
   "id": "79afe57581c77f92"
  },
  {
   "metadata": {},
   "cell_type": "markdown",
   "source": [
    "\n",
    "## Generative AI and Python\n",
    "\n",
    "Generative AI tools such as ChatGPT, Genesis, and Claude can often generate helpful code templates and suggestions for Python problems. These tools work best:\n",
    "\n",
    "1. when you structure your questions using [pseudocode](https://en.wikipedia.org/wiki/Pseudocode), by breaking down the programming task you hope to accomplish using natural language.\n",
    "2. when you have enough experience in Python that you can troubleshoot errors and read over the code to ensure it's doing what you think it is. The Python code that ChatGPT suggests can be flawed in small (and sometimes large) ways. You'll have more success using generative AI for programming help as you gain more experience writing and editing Python.\n"
   ],
   "id": "645242a7798d3ff7"
  },
  {
   "metadata": {},
   "cell_type": "markdown",
   "source": [
    "\n",
    "## Reflection\n",
    "\n",
    "Take a few minutes to think about what you learned during the workshop. Consider the following:\n",
    "\n",
    "1. Are there ways for you to implement Python in your work moving forward?\n",
    "2. Do you have any questions or confusion about how you might implement Python in a particular workflow? \n",
    "\n",
    "With the time remaining, discuss these topics with your instructors, helpers, and co-learners.\n"
   ],
   "id": "77ffd0265a704497"
  },
  {
   "metadata": {},
   "cell_type": "markdown",
   "source": [
    "\n",
    "## Key Points\n",
    "\n",
    "- Python supports a large community within and outside of research.\n",
    "- Follow standard Python style (using PEP8) in your code."
   ],
   "id": "8e354c1f962823e5"
  }
 ],
 "metadata": {
  "kernelspec": {
   "display_name": "Python 3",
   "language": "python",
   "name": "python3"
  },
  "language_info": {
   "codemirror_mode": {
    "name": "ipython",
    "version": 2
   },
   "file_extension": ".py",
   "mimetype": "text/x-python",
   "name": "python",
   "nbconvert_exporter": "python",
   "pygments_lexer": "ipython2",
   "version": "2.7.6"
  }
 },
 "nbformat": 4,
 "nbformat_minor": 5
}
