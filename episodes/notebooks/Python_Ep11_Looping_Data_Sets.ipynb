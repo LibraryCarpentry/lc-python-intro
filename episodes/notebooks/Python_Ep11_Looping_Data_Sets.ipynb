{
 "cells": [
  {
   "metadata": {},
   "cell_type": "markdown",
   "source": [
    "# Looping Over Data Sets\n",
    "\n",
    "\n",
    "\n",
    "#### Objectives:\n",
    "- Be able to read and write globbing expressions that match sets of files.\n",
    "- Use glob to create lists of files.\n",
    "- Write for loops to perform operations on files given their names in a list.\n"
   ],
   "id": "61ef986819da7111"
  },
  {
   "metadata": {
    "ExecuteTime": {
     "end_time": "2024-09-26T16:33:18.155677Z",
     "start_time": "2024-09-26T16:33:18.008084Z"
    }
   },
   "cell_type": "code",
   "source": [
    "import glob\n",
    "import pandas as pd\n",
    "\n",
    "# Use a for loop to process files given a list of their names.\n",
    "for filename in ['../data/2011_circ.csv', '../data/2012_circ.csv']:\n",
    "    data = pd.read_csv(filename)\n",
    "    print(f'{filename}: Max YTD:', data['ytd'].max())"
   ],
   "id": "67f658e58fe0c4",
   "outputs": [
    {
     "name": "stdout",
     "output_type": "stream",
     "text": [
      "../data/2011_circ.csv: Max YTD: 966720\n",
      "../data/2012_circ.csv: Max YTD: 937649\n"
     ]
    }
   ],
   "execution_count": 1
  },
  {
   "metadata": {
    "ExecuteTime": {
     "end_time": "2024-09-26T16:33:46.192127Z",
     "start_time": "2024-09-26T16:33:46.189579Z"
    }
   },
   "cell_type": "code",
   "source": [
    "# Use glob to find sets of files whose names match a pattern.\n",
    "print(f\"All CSV files in the data directory: {glob.glob('../data/*.csv')}\")\n"
   ],
   "id": "9990297056fc2fae",
   "outputs": [
    {
     "name": "stdout",
     "output_type": "stream",
     "text": [
      "All CSV files in the data directory: ['../data/2011_circ.csv', '../data/total_circulation_by_branch.csv', '../data/2016_circ.csv', '../data/2017_circ.csv', '../data/pklhigh_usage.csv', '../data/2022_circ.csv', '../data/2018_circ.csv', '../data/2019_circ.csv', '../data/2012_circ.csv', '../data/2013_circ.csv', '../data/2021_circ.csv', '../data/2020_circ.csv', '../data/2015_circ.csv', '../data/2014_circ.csv']\n"
     ]
    }
   ],
   "execution_count": 5
  },
  {
   "metadata": {
    "ExecuteTime": {
     "end_time": "2024-09-26T16:34:41.350279Z",
     "start_time": "2024-09-26T16:34:41.332281Z"
    }
   },
   "cell_type": "code",
   "source": [
    "import glob\n",
    "import pandas as pd\n",
    "\n",
    "# Use glob and for loop to process batches of files and handle KeyError\n",
    "for csv in sorted(glob.glob('../data/*.csv')):\n",
    "    data = pd.read_csv(csv)\n",
    "    \n",
    "    # Print column names to check for consistency across files\n",
    "    print(f'Processing file: {csv}')\n",
    "    print(f'Columns: {data.columns}')\n",
    "    \n",
    "    # Check if 'ytd' column exists before trying to access it\n",
    "    if 'ytd' in data.columns:\n",
    "        print(f'{csv}: Max YTD:', data['ytd'].max())\n",
    "    else:\n",
    "        print(f'{csv}: Missing \"ytd\" column')\n"
   ],
   "id": "41bc2e6abdb7796",
   "outputs": [
    {
     "name": "stdout",
     "output_type": "stream",
     "text": [
      "Processing file: ../data/2011_circ.csv\n",
      "Columns: Index(['branch', 'address', 'city', 'zip code', 'january', 'february', 'march',\n",
      "       'april', 'may', 'june', 'july', 'august', 'september', 'october',\n",
      "       'november', 'december', 'ytd'],\n",
      "      dtype='object')\n",
      "../data/2011_circ.csv: Max YTD: 966720\n",
      "Processing file: ../data/2012_circ.csv\n",
      "Columns: Index(['branch', 'address', 'city', 'zip code', 'january', 'february', 'march',\n",
      "       'april', 'may', 'june', 'july', 'august', 'september', 'october',\n",
      "       'november', 'december', 'ytd'],\n",
      "      dtype='object')\n",
      "../data/2012_circ.csv: Max YTD: 937649\n",
      "Processing file: ../data/2013_circ.csv\n",
      "Columns: Index(['branch', 'address', 'city', 'zip code', 'january', 'february', 'march',\n",
      "       'april', 'may', 'june', 'july', 'august', 'september', 'october',\n",
      "       'november', 'december', 'ytd'],\n",
      "      dtype='object')\n",
      "../data/2013_circ.csv: Max YTD: 821749\n",
      "Processing file: ../data/2014_circ.csv\n",
      "Columns: Index(['branch', 'address', 'city', 'zip code', 'january', 'february', 'march',\n",
      "       'april', 'may', 'june', 'july', 'august', 'september', 'october',\n",
      "       'november', 'december', 'ytd'],\n",
      "      dtype='object')\n",
      "../data/2014_circ.csv: Max YTD: 755189\n",
      "Processing file: ../data/2015_circ.csv\n",
      "Columns: Index(['branch', 'address', 'city', 'zip code', 'january', 'february', 'march',\n",
      "       'april', 'may', 'june', 'july', 'august', 'september', 'october',\n",
      "       'november', 'december', 'ytd'],\n",
      "      dtype='object')\n",
      "../data/2015_circ.csv: Max YTD: 694528\n",
      "Processing file: ../data/2016_circ.csv\n",
      "Columns: Index(['branch', 'address', 'city', 'zip code', 'january', 'february', 'march',\n",
      "       'april', 'may', 'june', 'july', 'august', 'september', 'october',\n",
      "       'november', 'december', 'ytd'],\n",
      "      dtype='object')\n",
      "../data/2016_circ.csv: Max YTD: 670077\n",
      "Processing file: ../data/2017_circ.csv\n",
      "Columns: Index(['branch', 'address', 'city', 'zip code', 'january', 'february', 'march',\n",
      "       'april', 'may', 'june', 'july', 'august', 'september', 'october',\n",
      "       'november', 'december', 'ytd'],\n",
      "      dtype='object')\n",
      "../data/2017_circ.csv: Max YTD: 634570\n",
      "Processing file: ../data/2018_circ.csv\n",
      "Columns: Index(['branch', 'address', 'city', 'zip code', 'january', 'february', 'march',\n",
      "       'april', 'may', 'june', 'july', 'august', 'september', 'october',\n",
      "       'november', 'december', 'ytd'],\n",
      "      dtype='object')\n",
      "../data/2018_circ.csv: Max YTD: 614313\n",
      "Processing file: ../data/2019_circ.csv\n",
      "Columns: Index(['branch', 'address', 'city', 'zip code', 'january', 'february', 'march',\n",
      "       'april', 'may', 'june', 'july', 'august', 'september', 'october',\n",
      "       'november', 'december', 'ytd'],\n",
      "      dtype='object')\n",
      "../data/2019_circ.csv: Max YTD: 581151\n",
      "Processing file: ../data/2020_circ.csv\n",
      "Columns: Index(['branch', 'address', 'city', 'zip code', 'january', 'february', 'march',\n",
      "       'april', 'may', 'june', 'july', 'august', 'september', 'october',\n",
      "       'november', 'december', 'ytd'],\n",
      "      dtype='object')\n",
      "../data/2020_circ.csv: Max YTD: 276878\n",
      "Processing file: ../data/2021_circ.csv\n",
      "Columns: Index(['branch', 'address', 'city', 'zip code', 'january', 'february', 'march',\n",
      "       'april', 'may', 'june', 'july', 'august', 'september', 'october',\n",
      "       'november', 'december', 'ytd'],\n",
      "      dtype='object')\n",
      "../data/2021_circ.csv: Max YTD: 271811\n",
      "Processing file: ../data/2022_circ.csv\n",
      "Columns: Index(['branch', 'address', 'city', 'zip code', 'january', 'february', 'march',\n",
      "       'april', 'may', 'june', 'july', 'august', 'september', 'october',\n",
      "       'november', 'december', 'ytd'],\n",
      "      dtype='object')\n",
      "../data/2022_circ.csv: Max YTD: 301340\n",
      "Processing file: ../data/pklhigh_usage.csv\n",
      "Columns: Index(['year', 'branch', 'ytd'], dtype='object')\n",
      "../data/pklhigh_usage.csv: Max YTD: 301340\n",
      "Processing file: ../data/total_circulation_by_branch.csv\n",
      "Columns: Index(['Unnamed: 0', 'branch', 'circulation'], dtype='object')\n",
      "../data/total_circulation_by_branch.csv: Missing \"ytd\" column\n"
     ]
    }
   ],
   "execution_count": 6
  },
  {
   "metadata": {
    "ExecuteTime": {
     "end_time": "2024-09-26T16:36:33.686191Z",
     "start_time": "2024-09-26T16:36:33.661628Z"
    }
   },
   "cell_type": "code",
   "source": [
    "\n",
    "# Appending DataFrames to a list and adding 'year' column\n",
    "dfs = []\n",
    "counter = 1\n",
    "\n",
    "for csv in sorted(glob.glob('../data/*.csv')):\n",
    "    year = csv[8:12]  # Capture the year from the file name\n",
    "    data = pd.read_csv(csv)\n",
    "    data['year'] = year\n",
    "    print(f'{counter}: Saving {len(data)} rows from {csv}')\n",
    "    dfs.append(data)\n",
    "    counter += 1\n",
    "\n",
    "# Check the first DataFrame in the list\n",
    "dfs[0].head(2)\n"
   ],
   "id": "4fa7bdfff3f65208",
   "outputs": [
    {
     "name": "stdout",
     "output_type": "stream",
     "text": [
      "1: Saving 80 rows from ../data/2011_circ.csv\n",
      "2: Saving 79 rows from ../data/2012_circ.csv\n",
      "3: Saving 80 rows from ../data/2013_circ.csv\n",
      "4: Saving 80 rows from ../data/2014_circ.csv\n",
      "5: Saving 80 rows from ../data/2015_circ.csv\n",
      "6: Saving 80 rows from ../data/2016_circ.csv\n",
      "7: Saving 80 rows from ../data/2017_circ.csv\n",
      "8: Saving 80 rows from ../data/2018_circ.csv\n",
      "9: Saving 81 rows from ../data/2019_circ.csv\n",
      "10: Saving 81 rows from ../data/2020_circ.csv\n",
      "11: Saving 81 rows from ../data/2021_circ.csv\n",
      "12: Saving 81 rows from ../data/2022_circ.csv\n",
      "13: Saving 81 rows from ../data/pklhigh_usage.csv\n",
      "14: Saving 82 rows from ../data/total_circulation_by_branch.csv\n"
     ]
    },
    {
     "data": {
      "text/plain": [
       "        branch                address     city  zip code  january  february  \\\n",
       "0  Albany Park   5150 N. Kimball Ave.  Chicago   60625.0     8427      7023   \n",
       "1      Altgeld  13281 S. Corliss Ave.  Chicago   60827.0     1258       708   \n",
       "\n",
       "   march  april   may   june   july  august  september  october  november  \\\n",
       "0   9702   9344  8865  11650  11778   11306      10466    10997     10567   \n",
       "1    854    804   816    870    713     480        702      927       787   \n",
       "\n",
       "   december     ytd  year  \n",
       "0      9934  120059  2011  \n",
       "1       692    9611  2011  "
      ],
      "text/html": [
       "<div>\n",
       "<style scoped>\n",
       "    .dataframe tbody tr th:only-of-type {\n",
       "        vertical-align: middle;\n",
       "    }\n",
       "\n",
       "    .dataframe tbody tr th {\n",
       "        vertical-align: top;\n",
       "    }\n",
       "\n",
       "    .dataframe thead th {\n",
       "        text-align: right;\n",
       "    }\n",
       "</style>\n",
       "<table border=\"1\" class=\"dataframe\">\n",
       "  <thead>\n",
       "    <tr style=\"text-align: right;\">\n",
       "      <th></th>\n",
       "      <th>branch</th>\n",
       "      <th>address</th>\n",
       "      <th>city</th>\n",
       "      <th>zip code</th>\n",
       "      <th>january</th>\n",
       "      <th>february</th>\n",
       "      <th>march</th>\n",
       "      <th>april</th>\n",
       "      <th>may</th>\n",
       "      <th>june</th>\n",
       "      <th>july</th>\n",
       "      <th>august</th>\n",
       "      <th>september</th>\n",
       "      <th>october</th>\n",
       "      <th>november</th>\n",
       "      <th>december</th>\n",
       "      <th>ytd</th>\n",
       "      <th>year</th>\n",
       "    </tr>\n",
       "  </thead>\n",
       "  <tbody>\n",
       "    <tr>\n",
       "      <th>0</th>\n",
       "      <td>Albany Park</td>\n",
       "      <td>5150 N. Kimball Ave.</td>\n",
       "      <td>Chicago</td>\n",
       "      <td>60625.0</td>\n",
       "      <td>8427</td>\n",
       "      <td>7023</td>\n",
       "      <td>9702</td>\n",
       "      <td>9344</td>\n",
       "      <td>8865</td>\n",
       "      <td>11650</td>\n",
       "      <td>11778</td>\n",
       "      <td>11306</td>\n",
       "      <td>10466</td>\n",
       "      <td>10997</td>\n",
       "      <td>10567</td>\n",
       "      <td>9934</td>\n",
       "      <td>120059</td>\n",
       "      <td>2011</td>\n",
       "    </tr>\n",
       "    <tr>\n",
       "      <th>1</th>\n",
       "      <td>Altgeld</td>\n",
       "      <td>13281 S. Corliss Ave.</td>\n",
       "      <td>Chicago</td>\n",
       "      <td>60827.0</td>\n",
       "      <td>1258</td>\n",
       "      <td>708</td>\n",
       "      <td>854</td>\n",
       "      <td>804</td>\n",
       "      <td>816</td>\n",
       "      <td>870</td>\n",
       "      <td>713</td>\n",
       "      <td>480</td>\n",
       "      <td>702</td>\n",
       "      <td>927</td>\n",
       "      <td>787</td>\n",
       "      <td>692</td>\n",
       "      <td>9611</td>\n",
       "      <td>2011</td>\n",
       "    </tr>\n",
       "  </tbody>\n",
       "</table>\n",
       "</div>"
      ]
     },
     "execution_count": 7,
     "metadata": {},
     "output_type": "execute_result"
    }
   ],
   "execution_count": 7
  },
  {
   "metadata": {
    "ExecuteTime": {
     "end_time": "2024-09-26T16:36:47.373652Z",
     "start_time": "2024-09-26T16:36:47.369250Z"
    }
   },
   "cell_type": "code",
   "source": [
    "# Concatenate DataFrames together into one\n",
    "df = pd.concat(dfs, ignore_index=True)\n",
    "f'Number of rows in the concatenated DataFrame: {len(df)}'"
   ],
   "id": "b0123a0a59f0fba3",
   "outputs": [
    {
     "data": {
      "text/plain": [
       "'Number of rows in the concatenated DataFrame: 1126'"
      ]
     },
     "execution_count": 8,
     "metadata": {},
     "output_type": "execute_result"
    }
   ],
   "execution_count": 8
  },
  {
   "metadata": {
    "ExecuteTime": {
     "end_time": "2024-09-26T16:37:17.634123Z",
     "start_time": "2024-09-26T16:37:17.631506Z"
    }
   },
   "cell_type": "code",
   "source": [
    "\n",
    "# Challenge 1: Determining Matches\n",
    "# Only file 1 is matched by the glob pattern.\n",
    "# glob.glob('../data/*circ.csv') matches:\n",
    "# 1. ../data/2011_circ.csv\n"
   ],
   "id": "28c40542fd64dca2",
   "outputs": [],
   "execution_count": 9
  },
  {
   "metadata": {
    "ExecuteTime": {
     "end_time": "2024-09-26T16:37:44.511193Z",
     "start_time": "2024-09-26T16:37:44.493225Z"
    }
   },
   "cell_type": "code",
   "source": [
    "import glob\n",
    "import pandas as pd\n",
    "\n",
    "# Use glob and for loop to process batches of files and handle KeyError\n",
    "for csv in sorted(glob.glob('../data/*.csv')):\n",
    "    data = pd.read_csv(csv)\n",
    "    \n",
    "    # Print column names to check for consistency across files\n",
    "    print(f'Processing file: {csv}')\n",
    "    print(f'Columns: {data.columns}')\n",
    "    \n",
    "    # Check if 'ytd' column exists before trying to access it\n",
    "    if 'ytd' in data.columns:\n",
    "        print(f'{csv}: Min YTD:', data['ytd'].min())\n",
    "    else:\n",
    "        print(f'{csv}: Missing \"ytd\" column')\n"
   ],
   "id": "f9316773948f1c1d",
   "outputs": [
    {
     "name": "stdout",
     "output_type": "stream",
     "text": [
      "Processing file: ../data/2011_circ.csv\n",
      "Columns: Index(['branch', 'address', 'city', 'zip code', 'january', 'february', 'march',\n",
      "       'april', 'may', 'june', 'july', 'august', 'september', 'october',\n",
      "       'november', 'december', 'ytd'],\n",
      "      dtype='object')\n",
      "../data/2011_circ.csv: Min YTD: 9218\n",
      "Processing file: ../data/2012_circ.csv\n",
      "Columns: Index(['branch', 'address', 'city', 'zip code', 'january', 'february', 'march',\n",
      "       'april', 'may', 'june', 'july', 'august', 'september', 'october',\n",
      "       'november', 'december', 'ytd'],\n",
      "      dtype='object')\n",
      "../data/2012_circ.csv: Min YTD: 10010\n",
      "Processing file: ../data/2013_circ.csv\n",
      "Columns: Index(['branch', 'address', 'city', 'zip code', 'january', 'february', 'march',\n",
      "       'april', 'may', 'june', 'july', 'august', 'september', 'october',\n",
      "       'november', 'december', 'ytd'],\n",
      "      dtype='object')\n",
      "../data/2013_circ.csv: Min YTD: 572\n",
      "Processing file: ../data/2014_circ.csv\n",
      "Columns: Index(['branch', 'address', 'city', 'zip code', 'january', 'february', 'march',\n",
      "       'april', 'may', 'june', 'july', 'august', 'september', 'october',\n",
      "       'november', 'december', 'ytd'],\n",
      "      dtype='object')\n",
      "../data/2014_circ.csv: Min YTD: 8509\n",
      "Processing file: ../data/2015_circ.csv\n",
      "Columns: Index(['branch', 'address', 'city', 'zip code', 'january', 'february', 'march',\n",
      "       'april', 'may', 'june', 'july', 'august', 'september', 'october',\n",
      "       'november', 'december', 'ytd'],\n",
      "      dtype='object')\n",
      "../data/2015_circ.csv: Min YTD: 6382\n",
      "Processing file: ../data/2016_circ.csv\n",
      "Columns: Index(['branch', 'address', 'city', 'zip code', 'january', 'february', 'march',\n",
      "       'april', 'may', 'june', 'july', 'august', 'september', 'october',\n",
      "       'november', 'december', 'ytd'],\n",
      "      dtype='object')\n",
      "../data/2016_circ.csv: Min YTD: 0\n",
      "Processing file: ../data/2017_circ.csv\n",
      "Columns: Index(['branch', 'address', 'city', 'zip code', 'january', 'february', 'march',\n",
      "       'april', 'may', 'june', 'july', 'august', 'september', 'october',\n",
      "       'november', 'december', 'ytd'],\n",
      "      dtype='object')\n",
      "../data/2017_circ.csv: Min YTD: 0\n",
      "Processing file: ../data/2018_circ.csv\n",
      "Columns: Index(['branch', 'address', 'city', 'zip code', 'january', 'february', 'march',\n",
      "       'april', 'may', 'june', 'july', 'august', 'september', 'october',\n",
      "       'november', 'december', 'ytd'],\n",
      "      dtype='object')\n",
      "../data/2018_circ.csv: Min YTD: 4\n",
      "Processing file: ../data/2019_circ.csv\n",
      "Columns: Index(['branch', 'address', 'city', 'zip code', 'january', 'february', 'march',\n",
      "       'april', 'may', 'june', 'july', 'august', 'september', 'october',\n",
      "       'november', 'december', 'ytd'],\n",
      "      dtype='object')\n",
      "../data/2019_circ.csv: Min YTD: 1250\n",
      "Processing file: ../data/2020_circ.csv\n",
      "Columns: Index(['branch', 'address', 'city', 'zip code', 'january', 'february', 'march',\n",
      "       'april', 'may', 'june', 'july', 'august', 'september', 'october',\n",
      "       'november', 'december', 'ytd'],\n",
      "      dtype='object')\n",
      "../data/2020_circ.csv: Min YTD: 245\n",
      "Processing file: ../data/2021_circ.csv\n",
      "Columns: Index(['branch', 'address', 'city', 'zip code', 'january', 'february', 'march',\n",
      "       'april', 'may', 'june', 'july', 'august', 'september', 'october',\n",
      "       'november', 'december', 'ytd'],\n",
      "      dtype='object')\n",
      "../data/2021_circ.csv: Min YTD: 0\n",
      "Processing file: ../data/2022_circ.csv\n",
      "Columns: Index(['branch', 'address', 'city', 'zip code', 'january', 'february', 'march',\n",
      "       'april', 'may', 'june', 'july', 'august', 'september', 'october',\n",
      "       'november', 'december', 'ytd'],\n",
      "      dtype='object')\n",
      "../data/2022_circ.csv: Min YTD: 0\n",
      "Processing file: ../data/pklhigh_usage.csv\n",
      "Columns: Index(['year', 'branch', 'ytd'], dtype='object')\n",
      "../data/pklhigh_usage.csv: Min YTD: 0\n",
      "Processing file: ../data/total_circulation_by_branch.csv\n",
      "Columns: Index(['Unnamed: 0', 'branch', 'circulation'], dtype='object')\n",
      "../data/total_circulation_by_branch.csv: Missing \"ytd\" column\n"
     ]
    }
   ],
   "execution_count": 11
  },
  {
   "metadata": {
    "ExecuteTime": {
     "end_time": "2024-09-26T16:39:21.297454Z",
     "start_time": "2024-09-26T16:39:21.269300Z"
    }
   },
   "cell_type": "code",
   "source": [
    "import numpy as np \n",
    "\n",
    "# Bonus Challenge: Compile CSVs into one DataFrame\n",
    "dfs = []\n",
    "for csv in sorted(glob.glob('../data/*.csv')):\n",
    "    data = pd.read_csv(csv)\n",
    "    dfs.append(data)\n",
    "\n",
    "\n",
    "# Concatenate the DataFrames into one\n",
    "new_df = pd.concat(dfs, ignore_index=True)\n",
    "\n",
    "\n",
    "\n",
    "np.shape(new_df)\n",
    "\n",
    "import numpy as np\n",
    "\n",
    "# Bonus Challenge: Compile CSVs into one DataFrame\n",
    "dfs = []\n",
    "for csv in sorted(glob.glob('../data/*.csv')):\n",
    "    data = pd.read_csv(csv)\n",
    "    dfs.append(data)\n",
    "\n",
    "# Concatenate the DataFrames into one\n",
    "new_df = pd.concat(dfs, ignore_index=True)\n",
    "\n",
    "# Display first few rows of the new DataFrame\n",
    "print(new_df.head())\n",
    "\n",
    "np.shape(new_df)"
   ],
   "id": "daad35a59ca59d24",
   "outputs": [
    {
     "name": "stdout",
     "output_type": "stream",
     "text": [
      "           branch                  address     city  zip code  january  \\\n",
      "0     Albany Park     5150 N. Kimball Ave.  Chicago   60625.0   8427.0   \n",
      "1         Altgeld    13281 S. Corliss Ave.  Chicago   60827.0   1258.0   \n",
      "2  Archer Heights      5055 S. Archer Ave.  Chicago   60632.0   8104.0   \n",
      "3          Austin        5615 W. Race Ave.  Chicago   60644.0   1755.0   \n",
      "4   Austin-Irving  6100 W. Irving Park Rd.  Chicago   60634.0  12593.0   \n",
      "\n",
      "   february    march    april      may     june     july   august  september  \\\n",
      "0    7023.0   9702.0   9344.0   8865.0  11650.0  11778.0  11306.0    10466.0   \n",
      "1     708.0    854.0    804.0    816.0    870.0    713.0    480.0      702.0   \n",
      "2    6899.0   9329.0   9124.0   7472.0   8314.0   8116.0   9177.0     9033.0   \n",
      "3    1316.0   1942.0   2200.0   2133.0   2359.0   2080.0   2405.0     2417.0   \n",
      "4   11791.0  14807.0  14382.0  11754.0  14402.0  14605.0  15164.0    14306.0   \n",
      "\n",
      "   october  november  december       ytd year  Unnamed: 0  circulation  \n",
      "0  10997.0   10567.0    9934.0  120059.0  NaN         NaN          NaN  \n",
      "1    927.0     787.0     692.0    9611.0  NaN         NaN          NaN  \n",
      "2   9709.0    8809.0    7865.0  101951.0  NaN         NaN          NaN  \n",
      "3   2571.0    2233.0    2116.0   25527.0  NaN         NaN          NaN  \n",
      "4  15357.0   14069.0   12404.0  165634.0  NaN         NaN          NaN  \n"
     ]
    },
    {
     "data": {
      "text/plain": [
       "(1126, 20)"
      ]
     },
     "execution_count": 15,
     "metadata": {},
     "output_type": "execute_result"
    }
   ],
   "execution_count": 15
  },
  {
   "metadata": {},
   "cell_type": "code",
   "outputs": [],
   "execution_count": null,
   "source": "",
   "id": "f8228549ec16aa5b"
  }
 ],
 "metadata": {
  "kernelspec": {
   "display_name": "Python 3",
   "language": "python",
   "name": "python3"
  },
  "language_info": {
   "codemirror_mode": {
    "name": "ipython",
    "version": 2
   },
   "file_extension": ".py",
   "mimetype": "text/x-python",
   "name": "python",
   "nbconvert_exporter": "python",
   "pygments_lexer": "ipython2",
   "version": "2.7.6"
  }
 },
 "nbformat": 4,
 "nbformat_minor": 5
}
