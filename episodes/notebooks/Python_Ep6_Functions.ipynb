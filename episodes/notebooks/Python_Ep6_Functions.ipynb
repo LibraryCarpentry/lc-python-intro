{
 "cells": [
  {
   "metadata": {},
   "cell_type": "markdown",
   "source": "# Built-in Functions and Help in Python",
   "id": "1b3edc82a9d4b6f5"
  },
  {
   "metadata": {
    "ExecuteTime": {
     "end_time": "2024-09-26T03:24:05.252266Z",
     "start_time": "2024-09-26T03:24:05.250387Z"
    }
   },
   "cell_type": "code",
   "source": [
    "# 1. Using comments to add documentation\n",
    "# This sentence isn't executed by Python.\n",
    "name = 'Library Carpentry'  # Neither is this comment\n",
    "# Anything after '#' is ignored."
   ],
   "id": "b148580e36c3bd57",
   "outputs": [],
   "execution_count": 1
  },
  {
   "metadata": {
    "ExecuteTime": {
     "end_time": "2024-09-26T03:24:20.206560Z",
     "start_time": "2024-09-26T03:24:20.204601Z"
    }
   },
   "cell_type": "code",
   "source": [
    "# 2. A function may take zero or more arguments\n",
    "print(\"I am an argument and must go here.\")\n",
    "print()  # No arguments passed here\n",
    "print(\"Sometimes you don't need to pass an argument.\")"
   ],
   "id": "4e7739fe6a5899b0",
   "outputs": [
    {
     "name": "stdout",
     "output_type": "stream",
     "text": [
      "I am an argument and must go here.\n",
      "\n",
      "Sometimes you don't need to pass an argument.\n"
     ]
    }
   ],
   "execution_count": 2
  },
  {
   "metadata": {
    "ExecuteTime": {
     "end_time": "2024-09-26T03:24:32.353201Z",
     "start_time": "2024-09-26T03:24:32.351283Z"
    }
   },
   "cell_type": "code",
   "source": [
    "# 3. Using built-in functions max() and min()\n",
    "print(\"\\nUsing max and min functions:\")\n",
    "print(max(1, 2, 3))  # Returns the largest number\n",
    "print(min('a', 'b', max('c', 'd')))  # Nested function calls\n",
    "print(min('a', 'A', '2'))  # Comparing numbers and letters\n"
   ],
   "id": "fe769f809bad38c7",
   "outputs": [
    {
     "name": "stdout",
     "output_type": "stream",
     "text": [
      "\n",
      "Using max and min functions:\n",
      "3\n",
      "a\n",
      "2\n"
     ]
    }
   ],
   "execution_count": 3
  },
  {
   "metadata": {
    "ExecuteTime": {
     "end_time": "2024-09-26T03:24:53.357112Z",
     "start_time": "2024-09-26T03:24:53.353904Z"
    }
   },
   "cell_type": "code",
   "source": [
    "# 4. Functions may only work for certain arguments\n",
    "print(\"\\nFunction error when incompatible arguments are used:\")\n",
    "try:\n",
    "    print(max(1, 'a'))  # This will produce a TypeError\n",
    "except TypeError as e:\n",
    "    print(f\"Error: {e}\")\n"
   ],
   "id": "dd8d46e6282df3c4",
   "outputs": [
    {
     "name": "stdout",
     "output_type": "stream",
     "text": [
      "\n",
      "Function error when incompatible arguments are used:\n",
      "Error: '>' not supported between instances of 'str' and 'int'\n"
     ]
    }
   ],
   "execution_count": 4
  },
  {
   "metadata": {
    "ExecuteTime": {
     "end_time": "2024-09-26T03:25:01.692760Z",
     "start_time": "2024-09-26T03:25:01.691012Z"
    }
   },
   "cell_type": "code",
   "source": [
    "# 5. Function argument default values with round()\n",
    "print(\"\\nUsing round function:\")\n",
    "print(round(3.712))  # Default rounds to nearest whole number\n",
    "print(round(3.712, 1))  # Rounding to one decimal place\n"
   ],
   "id": "e12982255066482a",
   "outputs": [
    {
     "name": "stdout",
     "output_type": "stream",
     "text": [
      "\n",
      "Using round function:\n",
      "4\n",
      "3.7\n"
     ]
    }
   ],
   "execution_count": 5
  },
  {
   "metadata": {
    "ExecuteTime": {
     "end_time": "2024-09-26T03:25:08.018663Z",
     "start_time": "2024-09-26T03:25:08.016094Z"
    }
   },
   "cell_type": "code",
   "source": [
    "# 6. Use help to get documentation for built-in functions\n",
    "print(\"\\nUsing help() to get documentation for round function:\")\n",
    "help(round)\n"
   ],
   "id": "7181138e04a1b738",
   "outputs": [
    {
     "name": "stdout",
     "output_type": "stream",
     "text": [
      "\n",
      "Using help() to get documentation for round function:\n",
      "Help on built-in function round in module builtins:\n",
      "\n",
      "round(number, ndigits=None)\n",
      "    Round a number to a given precision in decimal digits.\n",
      "\n",
      "    The return value is an integer if ndigits is omitted or None.  Otherwise\n",
      "    the return value has the same type as the number.  ndigits may be negative.\n",
      "\n"
     ]
    }
   ],
   "execution_count": 6
  },
  {
   "metadata": {
    "ExecuteTime": {
     "end_time": "2024-09-26T03:25:26.127952Z",
     "start_time": "2024-09-26T03:25:26.125639Z"
    }
   },
   "cell_type": "code",
   "source": [
    "# 7. Every function returns something\n",
    "print(\"\\nExample showing function return values:\")\n",
    "lunch_prices = [9.95, 8.00, 12.50]\n",
    "print(f'The least expensive lunch costs ${min(lunch_prices)}')"
   ],
   "id": "7280e1d4f6fcf612",
   "outputs": [
    {
     "name": "stdout",
     "output_type": "stream",
     "text": [
      "\n",
      "Example showing function return values:\n",
      "The least expensive lunch costs $8.0\n"
     ]
    }
   ],
   "execution_count": 7
  },
  {
   "metadata": {
    "ExecuteTime": {
     "end_time": "2024-09-26T03:25:36.431143Z",
     "start_time": "2024-09-26T03:25:36.428108Z"
    }
   },
   "cell_type": "code",
   "source": [
    "# 8. Functions that return `None`\n",
    "print(\"\\nFunctions that return None:\")\n",
    "result = print('example')  # `print()` does not return a value, it prints it\n",
    "print(f'result of print is {result}')"
   ],
   "id": "98aa38dced1eb28f",
   "outputs": [
    {
     "name": "stdout",
     "output_type": "stream",
     "text": [
      "\n",
      "Functions that return None:\n",
      "example\n",
      "result of print is None\n"
     ]
    }
   ],
   "execution_count": 8
  },
  {
   "metadata": {
    "ExecuteTime": {
     "end_time": "2024-09-26T03:26:00.792494Z",
     "start_time": "2024-09-26T03:26:00.790063Z"
    }
   },
   "cell_type": "code",
   "source": [
    "# Challenge: Spot the Difference\n",
    "print(\"\\nChallenge: Spot the Difference\")\n",
    "cataloger = \"metadata_curation\"\n",
    "assistant_librarian = \"archives\"\n",
    "print(max(cataloger, assistant_librarian))  # Compares the strings alphabetically\n",
    "try:\n",
    "    print(max(len(cataloger), assistant_librarian))  # Causes a TypeError\n",
    "except TypeError as e:\n",
    "    print(f\"Error: {e}\")"
   ],
   "id": "ca06ab4c139ebd89",
   "outputs": [
    {
     "name": "stdout",
     "output_type": "stream",
     "text": [
      "\n",
      "Challenge: Spot the Difference\n",
      "metadata_curation\n",
      "Error: '>' not supported between instances of 'str' and 'int'\n"
     ]
    }
   ],
   "execution_count": 9
  },
  {
   "cell_type": "code",
   "id": "initial_id",
   "metadata": {
    "collapsed": true,
    "ExecuteTime": {
     "end_time": "2024-09-26T03:26:16.872037Z",
     "start_time": "2024-09-26T03:26:16.867742Z"
    }
   },
   "source": [
    "# Challenge: Why Not?\n",
    "# max() and min() require at least one argument\n",
    "print(\"\\nChallenge: Why Not?\")\n",
    "try:\n",
    "    print(max())  # This will produce an error\n",
    "except TypeError as e:\n",
    "    print(f\"Error: {e}\")\n"
   ],
   "outputs": [
    {
     "name": "stdout",
     "output_type": "stream",
     "text": [
      "\n",
      "Challenge: Why Not?\n",
      "Error: max expected at least 1 argument, got 0\n"
     ]
    }
   ],
   "execution_count": 10
  }
 ],
 "metadata": {
  "kernelspec": {
   "display_name": "Python 3",
   "language": "python",
   "name": "python3"
  },
  "language_info": {
   "codemirror_mode": {
    "name": "ipython",
    "version": 2
   },
   "file_extension": ".py",
   "mimetype": "text/x-python",
   "name": "python",
   "nbconvert_exporter": "python",
   "pygments_lexer": "ipython2",
   "version": "2.7.6"
  }
 },
 "nbformat": 4,
 "nbformat_minor": 5
}
