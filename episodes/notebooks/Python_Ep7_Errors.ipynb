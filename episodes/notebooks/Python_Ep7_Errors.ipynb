{
 "cells": [
  {
   "metadata": {},
   "cell_type": "markdown",
   "source": "# Errors (and other sandbox items)",
   "id": "702ca49c4db3541d"
  },
  {
   "metadata": {},
   "cell_type": "markdown",
   "source": [
    "**Objectives**\n",
    "\n",
    "Correctly describe situations in which SyntaxError and NameError occur.\n",
    "\n",
    "You've already seen errors when you try to use a function incorrectly, but you can also have errors when you use punctuation incorrectly. Python will run a program up until a point where it encounters an error, and when the grammar of a line of code has produced an error, the program will shut down and output the error."
   ],
   "id": "c0f0bd18a938aa7c"
  },
  {
   "metadata": {
    "ExecuteTime": {
     "end_time": "2024-09-26T03:40:53.349702Z",
     "start_time": "2024-09-26T03:40:53.346698Z"
    }
   },
   "cell_type": "code",
   "source": [
    "# Uncomment the code below to show error\n",
    "\n",
    "# # Forgot to close the quotation marks around the string.\n",
    "# name = 'Feng"
   ],
   "id": "90be21bb8a287cea",
   "outputs": [],
   "execution_count": 10
  },
  {
   "metadata": {
    "ExecuteTime": {
     "end_time": "2024-09-26T03:40:53.567821Z",
     "start_time": "2024-09-26T03:40:53.565130Z"
    }
   },
   "cell_type": "code",
   "source": [
    "# # An extra '=' in the assignment.\n",
    "\n",
    "# age = = 52"
   ],
   "id": "c63e28162c0f401f",
   "outputs": [],
   "execution_count": 11
  },
  {
   "metadata": {
    "ExecuteTime": {
     "end_time": "2024-09-26T03:40:53.716142Z",
     "start_time": "2024-09-26T03:40:53.714380Z"
    }
   },
   "cell_type": "code",
   "source": [
    "# Missing closing parenthesis\n",
    "# try:\n",
    "#     print(\"hello world\"\n",
    "# except SyntaxError as e:\n",
    "#     print(f\"SyntaxError: {e}\")\n",
    "\n",
    "\n",
    "# Explanation:\n",
    "# - At the end of the first line of this error message, it notes there is a problem on the first line of the input (\"line 1\").\n",
    "# - The problematic line of code is `print (\"hello world\"` - indicating where the problem is found with a `^` pointer.\n",
    "# - Finally, we get the SyntaxError message, which tells us that Python expected an 'EOF' or end of file. In this case, Python ran through all of the code but expected more information (a closing parenthesis in the `print(\"hello world\")` function)."
   ],
   "id": "cdc8854fa68c4fd1",
   "outputs": [],
   "execution_count": 12
  },
  {
   "metadata": {
    "ExecuteTime": {
     "end_time": "2024-09-26T03:40:54.218055Z",
     "start_time": "2024-09-26T03:40:54.215947Z"
    }
   },
   "cell_type": "code",
   "source": [
    "# Example: NameError due to a typo\n",
    "# try:\n",
    "#     age = 53\n",
    "#     remaining = 100 - aege  # Mis-spelled 'age'\n",
    "# except NameError as e:\n",
    "#     print(f\"NameError: {e}\")\n",
    "    \n",
    "# You can fix syntax errors by reading the source, and runtime errors by tracing execution.\n"
   ],
   "id": "222487eac98e6b",
   "outputs": [],
   "execution_count": 13
  },
  {
   "metadata": {
    "ExecuteTime": {
     "end_time": "2024-09-26T03:40:54.300497Z",
     "start_time": "2024-09-26T03:40:54.298660Z"
    }
   },
   "cell_type": "code",
   "source": [
    "\n",
    "# ## Challenge: What Happens When\n",
    "# \n",
    "# 1. Explain in simple terms the order of operations in the following program: when does the addition happen, when does the subtraction happen, when is each function called, etc.\n",
    "# 2. What is the final value of `word`?\n",
    "\n",
    "word = 'blah '\n",
    "word = max(min(word * 2 + 'blur ', 'aaah '), 'ping')\n",
    "print(word)\n",
    "\n",
    "# Solution: 'ping'\n"
   ],
   "id": "d233d2dd479d4820",
   "outputs": [
    {
     "name": "stdout",
     "output_type": "stream",
     "text": [
      "ping\n"
     ]
    }
   ],
   "execution_count": 14
  },
  {
   "metadata": {
    "ExecuteTime": {
     "end_time": "2024-09-26T03:40:54.386106Z",
     "start_time": "2024-09-26T03:40:54.384188Z"
    }
   },
   "cell_type": "code",
   "source": [
    "\n",
    "# ## Challenge: Spot the Difference\n",
    "# \n",
    "# 1. Predict what each of the `print` statements in the program below will print.\n",
    "# 2. Does `max(len(rich), poor)` run or produce an error message? If it runs, does its result make any sense?\n",
    "\n",
    "rich = \"gold\"\n",
    "poor = \"tin\"\n",
    "print(max(rich, poor))  # Lexicographically compares the strings\n",
    "print(max(len(rich), len(poor)))  # Compares lengths\n",
    "\n",
    "# This will produce a TypeError\n",
    "try:\n",
    "    print(max(len(rich), poor))  # Incompatible types: str and int\n",
    "except TypeError as e:\n",
    "    print(f\"TypeError: {e}\")\n"
   ],
   "id": "947b73c54c2b012a",
   "outputs": [
    {
     "name": "stdout",
     "output_type": "stream",
     "text": [
      "tin\n",
      "4\n",
      "TypeError: '>' not supported between instances of 'str' and 'int'\n"
     ]
    }
   ],
   "execution_count": 15
  },
  {
   "metadata": {
    "ExecuteTime": {
     "end_time": "2024-09-26T03:40:54.468033Z",
     "start_time": "2024-09-26T03:40:54.466330Z"
    }
   },
   "cell_type": "code",
   "source": [
    "\n",
    "# ## Challenge: Why Not?\n",
    "# Why don't `max` and `min` return `None` when they are given no arguments?\n",
    "\n",
    "# Demonstrating that max() requires arguments\n",
    "try:\n",
    "    print(max())  # This will produce an error\n",
    "except TypeError as e:\n",
    "    print(f\"TypeError: {e}\")"
   ],
   "id": "439b419b034c58d",
   "outputs": [
    {
     "name": "stdout",
     "output_type": "stream",
     "text": [
      "TypeError: max expected at least 1 argument, got 0\n"
     ]
    }
   ],
   "execution_count": 16
  },
  {
   "metadata": {
    "ExecuteTime": {
     "end_time": "2024-09-26T03:40:54.553112Z",
     "start_time": "2024-09-26T03:40:54.551222Z"
    }
   },
   "cell_type": "code",
   "source": [
    "# ## Challenge: Last Character of a String\n",
    "# \n",
    "# If Python starts counting from zero, and `len` returns the number of characters in a string, what index expression will get the last character in the string `name`?\n",
    "\n",
    "name = 'Library'\n",
    "# Get the last character using the index expression\n",
    "print(name[len(name) - 1])\n",
    "\n",
    "# A simpler way to do this:\n",
    "print(name[-1])"
   ],
   "id": "ec78796a11cabeff",
   "outputs": [
    {
     "name": "stdout",
     "output_type": "stream",
     "text": [
      "y\n",
      "y\n"
     ]
    }
   ],
   "execution_count": 17
  },
  {
   "metadata": {},
   "cell_type": "markdown",
   "source": [
    "\n",
    "### Key Points\n",
    "\n",
    "- Python reports a syntax error when it can't understand the source of a program.\n",
    "- Python reports a runtime error when something goes wrong while a program is executing.\n",
    "- Fix syntax errors by reading the source code, and runtime errors by tracing the program's execution."
   ],
   "id": "62b47f2badb528e2"
  },
  {
   "metadata": {},
   "cell_type": "code",
   "outputs": [],
   "execution_count": null,
   "source": "",
   "id": "78cfd143aeed88f9"
  }
 ],
 "metadata": {
  "kernelspec": {
   "display_name": "Python 3",
   "language": "python",
   "name": "python3"
  },
  "language_info": {
   "codemirror_mode": {
    "name": "ipython",
    "version": 2
   },
   "file_extension": ".py",
   "mimetype": "text/x-python",
   "name": "python",
   "nbconvert_exporter": "python",
   "pygments_lexer": "ipython2",
   "version": "2.7.6"
  }
 },
 "nbformat": 4,
 "nbformat_minor": 5
}
